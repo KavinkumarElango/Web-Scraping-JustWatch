{
  "cells": [
    {
      "cell_type": "markdown",
      "metadata": {
        "id": "bKFlk3slQ1ol"
      },
      "source": [
        "# **Web Scraping & Data Handling Challenge**"
      ]
    },
    {
      "cell_type": "markdown",
      "metadata": {
        "id": "YU_opgaCYpcO"
      },
      "source": [
        "### **Website:**\n",
        "JustWatch -  https://www.justwatch.com/in/movies?release_year_from=2000\n",
        "\n",
        "\n",
        "### **Description:**\n",
        "\n",
        "JustWatch is a popular platform that allows users to search for movies and TV shows across multiple streaming services like Netflix, Amazon Prime, Hulu, etc. For this assignment, you will be required to scrape movie and TV show data from JustWatch using Selenium, Python, and BeautifulSoup. Extract data from HTML, not by directly calling their APIs. Then, perform data filtering and analysis using Pandas, and finally, save the results to a CSV file."
      ]
    },
    {
      "cell_type": "markdown",
      "metadata": {
        "id": "-xHLaFLPn4yC"
      },
      "source": [
        "# **Task 1:- Web Scrapping**"
      ]
    },
    {
      "cell_type": "code",
      "execution_count": null,
      "metadata": {
        "colab": {
          "base_uri": "https://localhost:8080/"
        },
        "id": "axiEsy9ZL3qd",
        "outputId": "b0a22cf4-7835-4532-aabe-3b39face15f3"
      },
      "outputs": [
        {
          "output_type": "stream",
          "name": "stdout",
          "text": [
            "Collecting bs4\n",
            "  Downloading bs4-0.0.2-py2.py3-none-any.whl.metadata (411 bytes)\n",
            "Requirement already satisfied: beautifulsoup4 in /usr/local/lib/python3.10/dist-packages (from bs4) (4.12.3)\n",
            "Requirement already satisfied: soupsieve>1.2 in /usr/local/lib/python3.10/dist-packages (from beautifulsoup4->bs4) (2.6)\n",
            "Downloading bs4-0.0.2-py2.py3-none-any.whl (1.2 kB)\n",
            "Installing collected packages: bs4\n",
            "Successfully installed bs4-0.0.2\n",
            "Requirement already satisfied: requests in /usr/local/lib/python3.10/dist-packages (2.32.3)\n",
            "Requirement already satisfied: charset-normalizer<4,>=2 in /usr/local/lib/python3.10/dist-packages (from requests) (3.4.0)\n",
            "Requirement already satisfied: idna<4,>=2.5 in /usr/local/lib/python3.10/dist-packages (from requests) (3.10)\n",
            "Requirement already satisfied: urllib3<3,>=1.21.1 in /usr/local/lib/python3.10/dist-packages (from requests) (2.2.3)\n",
            "Requirement already satisfied: certifi>=2017.4.17 in /usr/local/lib/python3.10/dist-packages (from requests) (2024.8.30)\n"
          ]
        }
      ],
      "source": [
        "#Installing all necessary labraries\n",
        "!pip install bs4\n",
        "!pip install requests"
      ]
    },
    {
      "cell_type": "code",
      "execution_count": null,
      "metadata": {
        "id": "omJlLZASQBmU"
      },
      "outputs": [],
      "source": [
        "#import all necessary labraries\n",
        "import requests\n",
        "from bs4 import BeautifulSoup\n",
        "import re\n",
        "import pandas as pd\n",
        "import numpy as np"
      ]
    },
    {
      "cell_type": "code",
      "source": [
        "url = \"https://www.justwatch.com/in/movie/stree-2\""
      ],
      "metadata": {
        "id": "jfRokgY3zeVr"
      },
      "execution_count": null,
      "outputs": []
    },
    {
      "cell_type": "code",
      "source": [
        "soup = fetch_movie_urls(url)"
      ],
      "metadata": {
        "id": "tydqGEMuzls8"
      },
      "execution_count": null,
      "outputs": []
    },
    {
      "cell_type": "code",
      "source": [
        "print(soup.prettify())"
      ],
      "metadata": {
        "id": "YzlPr-3F2MIJ"
      },
      "execution_count": null,
      "outputs": []
    },
    {
      "cell_type": "markdown",
      "metadata": {
        "id": "NCWbwB1Og3bD"
      },
      "source": [
        "### **Scrapping Movies Data**"
      ]
    },
    {
      "cell_type": "code",
      "execution_count": null,
      "metadata": {
        "id": "nPDgza5mQJKr"
      },
      "outputs": [],
      "source": [
        "# Scrape Movie Data\n",
        "\n",
        "# Function for fetching urls using requests and BeautifulSoup\n",
        "def fetch_movie_urls(url):\n",
        "    headers = {\n",
        "        'User-Agent': 'Mozilla/5.0 (Windows NT 10.0; Win64; x64) AppleWebKit/537.36 (KHTML, like Gecko) Chrome/58.0.3029.110 Safari/537.36'\n",
        "    }\n",
        "    response = requests.get(url, headers=headers)\n",
        "    if response.status_code != 200:\n",
        "        return \"Failed to retrieve the page, status code:\", response.status_code\n",
        "    soup = BeautifulSoup(response.text, 'html.parser')\n",
        "    return soup\n",
        "\n",
        "\n",
        "url = 'https://www.justwatch.com/in/movies?release_year_from=2000' # url of website we are scraping\n",
        "soup=fetch_movie_urls(url) # parsed content"
      ]
    },
    {
      "cell_type": "markdown",
      "metadata": {
        "id": "V-qsNrtIsBEp"
      },
      "source": [
        "### **Fetching Movie URL's**"
      ]
    },
    {
      "cell_type": "code",
      "execution_count": null,
      "metadata": {
        "id": "nXj9U4lshQY1"
      },
      "outputs": [],
      "source": [
        "#Fetching movie URL's\n",
        "\n",
        "movie_links = soup.find_all(\"a\", href = True)\n",
        "movie_urls = [link[\"href\"] for link in movie_links if \"/movie/\" in link[\"href\"]]\n",
        "url_list = []\n",
        "\n",
        "for link in movie_urls:\n",
        "  url_list.append(\"https://www.justwatch.com\"+link) # Fetching each movie's specific url"
      ]
    },
    {
      "cell_type": "code",
      "execution_count": null,
      "metadata": {
        "colab": {
          "base_uri": "https://localhost:8080/"
        },
        "id": "JFnigNKErlGG",
        "outputId": "d4f617a6-3a31-42c9-a32d-6c5f4755081c"
      },
      "outputs": [
        {
          "output_type": "stream",
          "name": "stdout",
          "text": [
            "https://www.justwatch.com/in/movie/deadpool\n",
            "110\n"
          ]
        }
      ],
      "source": [
        "# Testing the fetched content\n",
        "print(url_list[25])\n",
        "print(len(url_list))"
      ]
    },
    {
      "cell_type": "markdown",
      "metadata": {
        "id": "Dam_ehZgvgmw"
      },
      "source": [
        "### **Scrapping Movie Title**"
      ]
    },
    {
      "cell_type": "code",
      "execution_count": null,
      "metadata": {
        "id": "1FGDXRKQxd1s"
      },
      "outputs": [],
      "source": [
        "# scrap movie title\n",
        "import time\n",
        "\n",
        "Title = []\n",
        "soup_sub = []\n",
        "for url in url_list:\n",
        "  soup = fetch_movie_urls(url) # Fetching soup using existing function created\n",
        "  if soup:\n",
        "    soup_sub.append(soup) # storing soup for further use\n",
        "    name = soup.find(\"title\").text.split(\" streaming\")[0] # Finding each movie title\n",
        "    Title.append(name)\n",
        "    time.sleep(3) # pausing 3 seconds to avoid making requests in short tine"
      ]
    },
    {
      "cell_type": "code",
      "execution_count": null,
      "metadata": {
        "colab": {
          "base_uri": "https://localhost:8080/"
        },
        "id": "gBdY4Ra4Vdnm",
        "outputId": "470e7f2d-161c-434f-a4c7-1c39ba7e44b4"
      },
      "outputs": [
        {
          "output_type": "stream",
          "name": "stdout",
          "text": [
            "Inside Out 2\n",
            "110\n"
          ]
        }
      ],
      "source": [
        "# Testing fetched data\n",
        "print(Title[25])\n",
        "print(len(Title))"
      ]
    },
    {
      "cell_type": "code",
      "source": [
        "url = https://www.justwatch.com/in/movie/stree-2\n",
        "request ="
      ],
      "metadata": {
        "id": "K6Dab1RPy_PQ"
      },
      "execution_count": null,
      "outputs": []
    },
    {
      "cell_type": "markdown",
      "metadata": {
        "id": "VEg1U1uPzGoj"
      },
      "source": [
        "### **Scrapping release Year**"
      ]
    },
    {
      "cell_type": "code",
      "execution_count": null,
      "metadata": {
        "id": "wLqLKOvP5Gmt"
      },
      "outputs": [],
      "source": [
        "# scrape release year\n",
        "Release_Year = []\n",
        "for soup in soup_sub:\n",
        "    year = soup.find(\"span\", class_=\"release-year\").text.split(\"(\")[1] # Fetching year data from desired http parsed data\n",
        "    year = year.split(\")\")[0] # removing unwanted characters\n",
        "    Release_Year.append(int(year))"
      ]
    },
    {
      "cell_type": "code",
      "execution_count": null,
      "metadata": {
        "colab": {
          "base_uri": "https://localhost:8080/"
        },
        "id": "9aTHokhayueb",
        "outputId": "5ce9ad20-ab82-4c9e-e47d-9b54440f1f07"
      },
      "outputs": [
        {
          "output_type": "stream",
          "name": "stdout",
          "text": [
            "2024\n",
            "110\n"
          ]
        }
      ],
      "source": [
        "# Testing data fetched\n",
        "print(Release_Year[25])\n",
        "print(len(Release_Year))"
      ]
    },
    {
      "cell_type": "markdown",
      "metadata": {
        "id": "aqzhL8STqaMX"
      },
      "source": [
        "### **Scrapping Genres**"
      ]
    },
    {
      "cell_type": "code",
      "execution_count": null,
      "metadata": {
        "id": "NYGVsfKjrDWr"
      },
      "outputs": [],
      "source": [
        "# scrape Genres\n",
        "\n",
        "Genres = []\n",
        "for soup in soup_sub:\n",
        "    genre_raw = soup.find(\"div\", class_=\"title-info title-info\") # Fetching sub soup\n",
        "    genre = list(genre_raw)[1].text.replace(\"Genres\", \"\") # Extracting genre from sub soup\n",
        "    Genres.append(str(genre))"
      ]
    },
    {
      "cell_type": "code",
      "execution_count": null,
      "metadata": {
        "id": "L3MN4FEBo7BS",
        "colab": {
          "base_uri": "https://localhost:8080/"
        },
        "outputId": "b310c840-dd04-463d-aa19-317e88fde849"
      },
      "outputs": [
        {
          "output_type": "stream",
          "name": "stdout",
          "text": [
            "Comedy, Drama, Kids & Family, Fantasy, Animation\n",
            "110\n"
          ]
        }
      ],
      "source": [
        "# Testing data fetched\n",
        "print(Genres[25])\n",
        "print(len(Genres))"
      ]
    },
    {
      "cell_type": "markdown",
      "metadata": {
        "id": "UOof6-0xFuf6"
      },
      "source": [
        "### **Scrapping IMBD Rating**"
      ]
    },
    {
      "cell_type": "code",
      "execution_count": null,
      "metadata": {
        "id": "gW467MLx6aCH"
      },
      "outputs": [],
      "source": [
        "# Scrape imdb rating\n",
        "\n",
        "IMDB_Rating = []\n",
        "for soup in soup_sub:\n",
        "    imdb = soup.find(\"span\", class_=\"imdb-score\") # extracting imdb rating from parsed html\n",
        "    if imdb: # condition for handling missing values\n",
        "      imdb = imdb.text.split(\" \")[0] # removing unwanted characters\n",
        "      IMDB_Rating.append(imdb)\n",
        "    else:\n",
        "      IMDB_Rating.append(np.nan)"
      ]
    },
    {
      "cell_type": "code",
      "execution_count": null,
      "metadata": {
        "colab": {
          "base_uri": "https://localhost:8080/"
        },
        "id": "w4K-zVTEsjYb",
        "outputId": "4ef047b7-de49-458f-fad2-8ef5f1394db9"
      },
      "outputs": [
        {
          "output_type": "stream",
          "name": "stdout",
          "text": [
            "7.7\n",
            "110\n"
          ]
        }
      ],
      "source": [
        "# Testing data fetched\n",
        "print(IMDB_Rating[25])\n",
        "print(len(IMDB_Rating))"
      ]
    },
    {
      "cell_type": "markdown",
      "metadata": {
        "id": "8CHiu0A5RAuM"
      },
      "source": [
        "### **Scrapping Runtime/Duration**"
      ]
    },
    {
      "cell_type": "code",
      "execution_count": null,
      "metadata": {
        "id": "si_yaGO8OTBo"
      },
      "outputs": [],
      "source": [
        "# scrape Runtime\n",
        "\n",
        "Runtime = []\n",
        "\n",
        "for soup in soup_sub:\n",
        "  runtime_raw = soup.find(\"div\", class_=\"title-info title-info\") # Fetching sub soup\n",
        "  runtime = list(runtime_raw)[2].text.replace(\"Runtime\", \"\") # Extracting runtime from sub soup\n",
        "  Runtime.append(runtime)"
      ]
    },
    {
      "cell_type": "code",
      "execution_count": null,
      "metadata": {
        "colab": {
          "base_uri": "https://localhost:8080/"
        },
        "id": "Af5d39UXwX2a",
        "outputId": "4f99ce74-a281-4aad-c857-70bfec25fd59"
      },
      "outputs": [
        {
          "output_type": "stream",
          "name": "stdout",
          "text": [
            "1h 48min\n",
            "110\n"
          ]
        }
      ],
      "source": [
        "# Testing data fetched\n",
        "print(Runtime[25])\n",
        "print(len(Runtime))"
      ]
    },
    {
      "cell_type": "markdown",
      "metadata": {
        "id": "edb4gsNcRJQN"
      },
      "source": [
        "### **Scrapping Age Rating**"
      ]
    },
    {
      "cell_type": "code",
      "execution_count": null,
      "metadata": {
        "id": "ZsHskhOcNAUj"
      },
      "outputs": [],
      "source": [
        "# scraping age rating\n",
        "\n",
        "Age_Rating = []\n",
        "\n",
        "for soup in soup_sub:\n",
        "  age_rating_raw = soup.find(\"div\", class_=\"title-info title-info\") # Fetching sub soup\n",
        "\n",
        "  age_rating = list(age_rating_raw)[3].text.replace(\"Age rating\", \"\")\n",
        "  if age_rating != \"\":\n",
        "    Age_Rating.append(age_rating)\n",
        "  else:\n",
        "    Age_Rating.append(np.nan)"
      ]
    },
    {
      "cell_type": "code",
      "execution_count": null,
      "metadata": {
        "colab": {
          "base_uri": "https://localhost:8080/"
        },
        "id": "4ymblyJOAbqV",
        "outputId": "c4638c88-8535-4d81-eb12-1e980b5e5a83"
      },
      "outputs": [
        {
          "output_type": "stream",
          "name": "stdout",
          "text": [
            "U\n",
            "110\n"
          ]
        }
      ],
      "source": [
        "# Testing data fetched\n",
        "print(Age_Rating[25])\n",
        "print(len(Age_Rating))"
      ]
    },
    {
      "cell_type": "code",
      "execution_count": null,
      "metadata": {
        "colab": {
          "base_uri": "https://localhost:8080/"
        },
        "id": "ZuGfKEl78qSX",
        "outputId": "4c2eafd8-49c7-4c2e-d9d2-a2c842c83d2c"
      },
      "outputs": [
        {
          "output_type": "stream",
          "name": "stdout",
          "text": [
            " Production country United States\n"
          ]
        }
      ],
      "source": [
        "soup = fetch_movie_urls(url_list[25])\n",
        "runtime_raw = soup.find(\"div\", class_=\"title-info title-info\") # Fetching sub soup\n",
        "runtime = list(runtime_raw)[4].text.replace(\"Age rating\", \"\") # Extracting runtime from sub soup\n",
        "print(runtime)"
      ]
    },
    {
      "cell_type": "markdown",
      "metadata": {
        "id": "_RI5FD3CqFVV"
      },
      "source": [
        "### **Fetching Production Countries Details**"
      ]
    },
    {
      "cell_type": "code",
      "execution_count": null,
      "metadata": {
        "id": "ai6YOgZmYIcc"
      },
      "outputs": [],
      "source": [
        "# Fetching Production Countries\n",
        "\n",
        "Production_Country = []\n",
        "\n",
        "for soup in soup_sub:\n",
        "  production_country_raw = soup.find(\"div\", class_=\"title-info title-info\") # Fetching sub soup\n",
        "  production_country = list(production_country_raw)[4].text.replace(\"Production country \", \"\").strip() # extracting production country\n",
        "  Production_Country.append(production_country)"
      ]
    },
    {
      "cell_type": "code",
      "execution_count": null,
      "metadata": {
        "colab": {
          "base_uri": "https://localhost:8080/"
        },
        "id": "gpJqBYldA5g1",
        "outputId": "9db36094-aeb1-437e-9382-a977746b433a"
      },
      "outputs": [
        {
          "output_type": "stream",
          "name": "stdout",
          "text": [
            "United States\n",
            "110\n"
          ]
        }
      ],
      "source": [
        "# Testing data fetched\n",
        "print(Production_Country[25])\n",
        "print(len(Production_Country))"
      ]
    },
    {
      "cell_type": "markdown",
      "metadata": {
        "id": "IrJlIsBWrO2r"
      },
      "source": [
        "### **Fetching Streaming Service Details**"
      ]
    },
    {
      "cell_type": "code",
      "execution_count": null,
      "metadata": {
        "id": "Yk72jDLZu7EZ"
      },
      "outputs": [],
      "source": [
        "# Fetching Streaming Service Details\n",
        "\n",
        "Streaming_Service = []\n",
        "\n",
        "for soup in soup_sub:\n",
        "  streaming_raw = soup.find_all(\"span\", class_=\"offer-container\") # Fetching streaming service detail\n",
        "  set1 = set()\n",
        "  for item in streaming_raw:\n",
        "    if item.find(\"button\").text != \"Buy tickets\": # conditional statement for removing movies running in cinemas\n",
        "      set1.add(item.find(\"img\")[\"alt\"])\n",
        "  if len(set1) != 0:\n",
        "    Streaming_Service.append(\", \".join(set1))\n",
        "  else:\n",
        "    Streaming_Service.append(np.nan)"
      ]
    },
    {
      "cell_type": "code",
      "execution_count": null,
      "metadata": {
        "colab": {
          "base_uri": "https://localhost:8080/"
        },
        "id": "A0CxH-q4GPmv",
        "outputId": "0c529ebe-b743-45cf-ebfe-2fe4993c0cae"
      },
      "outputs": [
        {
          "output_type": "stream",
          "name": "stdout",
          "text": [
            "Apple TV\n",
            "110\n"
          ]
        }
      ],
      "source": [
        "# Testing data fetched\n",
        "print(Streaming_Service[25])\n",
        "print(len(Streaming_Service))"
      ]
    },
    {
      "cell_type": "markdown",
      "metadata": {
        "id": "Mnh22VX_7f6K"
      },
      "source": [
        "### **Now Creating Movies DataFrame**"
      ]
    },
    {
      "cell_type": "code",
      "execution_count": null,
      "metadata": {
        "id": "i7XQUICP5oBI"
      },
      "outputs": [],
      "source": [
        "# creating Movies dataframe using fetched data\n",
        "\n",
        "Movie_df = pd.DataFrame({\n",
        "    \"Title\":Title,\n",
        "    \"Release_Year\":Release_Year,\n",
        "    \"Genres\":Genres,\n",
        "    \"IMDB_Rating\":IMDB_Rating,\n",
        "    \"Runtime\":Runtime,\n",
        "    \"Age_Rating\":Age_Rating,\n",
        "    \"Production_Country\":Production_Country,\n",
        "    \"Streaming_Services\":Streaming_Service,\n",
        "    \"URL\":url_list\n",
        "})"
      ]
    },
    {
      "cell_type": "code",
      "source": [
        "Movie_df.head()"
      ],
      "metadata": {
        "colab": {
          "base_uri": "https://localhost:8080/",
          "height": 258
        },
        "id": "WEZjFk2WENWP",
        "outputId": "ad441984-521f-47f3-d0f0-1ed367a23e87"
      },
      "execution_count": null,
      "outputs": [
        {
          "output_type": "execute_result",
          "data": {
            "text/plain": [
              "           Title  Release_Year  \\\n",
              "0        Stree 2          2024   \n",
              "1  Kalki 2898-AD          2024   \n",
              "2         Munjya          2024   \n",
              "3           Kill          2024   \n",
              "4          Stree          2018   \n",
              "\n",
              "                                              Genres IMDB_Rating   Runtime  \\\n",
              "0                                     Comedy, Horror         7.7  2h 27min   \n",
              "1  Science-Fiction, Drama, Action & Adventure, Fa...         7.2  2h 56min   \n",
              "2                                     Comedy, Horror         6.6   2h 3min   \n",
              "3  Action & Adventure, Crime, Drama, Mystery & Th...         7.6  1h 45min   \n",
              "4                              Horror, Comedy, Drama         7.5   2h 7min   \n",
              "\n",
              "  Age_Rating Production_Country                         Streaming_Services  \\\n",
              "0         UA              India                                        NaN   \n",
              "1         UA              India  Amazon Video, Amazon Prime Video, Netflix   \n",
              "2         UA              India                                    Hotstar   \n",
              "3          A              India                                        NaN   \n",
              "4         UA              India                          Hotstar, Apple TV   \n",
              "\n",
              "                                            URL  \n",
              "0    https://www.justwatch.com/in/movie/stree-2  \n",
              "1  https://www.justwatch.com/in/movie/project-k  \n",
              "2     https://www.justwatch.com/in/movie/munjha  \n",
              "3  https://www.justwatch.com/in/movie/kill-2024  \n",
              "4      https://www.justwatch.com/in/movie/stree  "
            ],
            "text/html": [
              "\n",
              "  <div id=\"df-c2fe60f1-d60c-4bcd-a087-fc86be66ed04\" class=\"colab-df-container\">\n",
              "    <div>\n",
              "<style scoped>\n",
              "    .dataframe tbody tr th:only-of-type {\n",
              "        vertical-align: middle;\n",
              "    }\n",
              "\n",
              "    .dataframe tbody tr th {\n",
              "        vertical-align: top;\n",
              "    }\n",
              "\n",
              "    .dataframe thead th {\n",
              "        text-align: right;\n",
              "    }\n",
              "</style>\n",
              "<table border=\"1\" class=\"dataframe\">\n",
              "  <thead>\n",
              "    <tr style=\"text-align: right;\">\n",
              "      <th></th>\n",
              "      <th>Title</th>\n",
              "      <th>Release_Year</th>\n",
              "      <th>Genres</th>\n",
              "      <th>IMDB_Rating</th>\n",
              "      <th>Runtime</th>\n",
              "      <th>Age_Rating</th>\n",
              "      <th>Production_Country</th>\n",
              "      <th>Streaming_Services</th>\n",
              "      <th>URL</th>\n",
              "    </tr>\n",
              "  </thead>\n",
              "  <tbody>\n",
              "    <tr>\n",
              "      <th>0</th>\n",
              "      <td>Stree 2</td>\n",
              "      <td>2024</td>\n",
              "      <td>Comedy, Horror</td>\n",
              "      <td>7.7</td>\n",
              "      <td>2h 27min</td>\n",
              "      <td>UA</td>\n",
              "      <td>India</td>\n",
              "      <td>NaN</td>\n",
              "      <td>https://www.justwatch.com/in/movie/stree-2</td>\n",
              "    </tr>\n",
              "    <tr>\n",
              "      <th>1</th>\n",
              "      <td>Kalki 2898-AD</td>\n",
              "      <td>2024</td>\n",
              "      <td>Science-Fiction, Drama, Action &amp; Adventure, Fa...</td>\n",
              "      <td>7.2</td>\n",
              "      <td>2h 56min</td>\n",
              "      <td>UA</td>\n",
              "      <td>India</td>\n",
              "      <td>Amazon Video, Amazon Prime Video, Netflix</td>\n",
              "      <td>https://www.justwatch.com/in/movie/project-k</td>\n",
              "    </tr>\n",
              "    <tr>\n",
              "      <th>2</th>\n",
              "      <td>Munjya</td>\n",
              "      <td>2024</td>\n",
              "      <td>Comedy, Horror</td>\n",
              "      <td>6.6</td>\n",
              "      <td>2h 3min</td>\n",
              "      <td>UA</td>\n",
              "      <td>India</td>\n",
              "      <td>Hotstar</td>\n",
              "      <td>https://www.justwatch.com/in/movie/munjha</td>\n",
              "    </tr>\n",
              "    <tr>\n",
              "      <th>3</th>\n",
              "      <td>Kill</td>\n",
              "      <td>2024</td>\n",
              "      <td>Action &amp; Adventure, Crime, Drama, Mystery &amp; Th...</td>\n",
              "      <td>7.6</td>\n",
              "      <td>1h 45min</td>\n",
              "      <td>A</td>\n",
              "      <td>India</td>\n",
              "      <td>NaN</td>\n",
              "      <td>https://www.justwatch.com/in/movie/kill-2024</td>\n",
              "    </tr>\n",
              "    <tr>\n",
              "      <th>4</th>\n",
              "      <td>Stree</td>\n",
              "      <td>2018</td>\n",
              "      <td>Horror, Comedy, Drama</td>\n",
              "      <td>7.5</td>\n",
              "      <td>2h 7min</td>\n",
              "      <td>UA</td>\n",
              "      <td>India</td>\n",
              "      <td>Hotstar, Apple TV</td>\n",
              "      <td>https://www.justwatch.com/in/movie/stree</td>\n",
              "    </tr>\n",
              "  </tbody>\n",
              "</table>\n",
              "</div>\n",
              "    <div class=\"colab-df-buttons\">\n",
              "\n",
              "  <div class=\"colab-df-container\">\n",
              "    <button class=\"colab-df-convert\" onclick=\"convertToInteractive('df-c2fe60f1-d60c-4bcd-a087-fc86be66ed04')\"\n",
              "            title=\"Convert this dataframe to an interactive table.\"\n",
              "            style=\"display:none;\">\n",
              "\n",
              "  <svg xmlns=\"http://www.w3.org/2000/svg\" height=\"24px\" viewBox=\"0 -960 960 960\">\n",
              "    <path d=\"M120-120v-720h720v720H120Zm60-500h600v-160H180v160Zm220 220h160v-160H400v160Zm0 220h160v-160H400v160ZM180-400h160v-160H180v160Zm440 0h160v-160H620v160ZM180-180h160v-160H180v160Zm440 0h160v-160H620v160Z\"/>\n",
              "  </svg>\n",
              "    </button>\n",
              "\n",
              "  <style>\n",
              "    .colab-df-container {\n",
              "      display:flex;\n",
              "      gap: 12px;\n",
              "    }\n",
              "\n",
              "    .colab-df-convert {\n",
              "      background-color: #E8F0FE;\n",
              "      border: none;\n",
              "      border-radius: 50%;\n",
              "      cursor: pointer;\n",
              "      display: none;\n",
              "      fill: #1967D2;\n",
              "      height: 32px;\n",
              "      padding: 0 0 0 0;\n",
              "      width: 32px;\n",
              "    }\n",
              "\n",
              "    .colab-df-convert:hover {\n",
              "      background-color: #E2EBFA;\n",
              "      box-shadow: 0px 1px 2px rgba(60, 64, 67, 0.3), 0px 1px 3px 1px rgba(60, 64, 67, 0.15);\n",
              "      fill: #174EA6;\n",
              "    }\n",
              "\n",
              "    .colab-df-buttons div {\n",
              "      margin-bottom: 4px;\n",
              "    }\n",
              "\n",
              "    [theme=dark] .colab-df-convert {\n",
              "      background-color: #3B4455;\n",
              "      fill: #D2E3FC;\n",
              "    }\n",
              "\n",
              "    [theme=dark] .colab-df-convert:hover {\n",
              "      background-color: #434B5C;\n",
              "      box-shadow: 0px 1px 3px 1px rgba(0, 0, 0, 0.15);\n",
              "      filter: drop-shadow(0px 1px 2px rgba(0, 0, 0, 0.3));\n",
              "      fill: #FFFFFF;\n",
              "    }\n",
              "  </style>\n",
              "\n",
              "    <script>\n",
              "      const buttonEl =\n",
              "        document.querySelector('#df-c2fe60f1-d60c-4bcd-a087-fc86be66ed04 button.colab-df-convert');\n",
              "      buttonEl.style.display =\n",
              "        google.colab.kernel.accessAllowed ? 'block' : 'none';\n",
              "\n",
              "      async function convertToInteractive(key) {\n",
              "        const element = document.querySelector('#df-c2fe60f1-d60c-4bcd-a087-fc86be66ed04');\n",
              "        const dataTable =\n",
              "          await google.colab.kernel.invokeFunction('convertToInteractive',\n",
              "                                                    [key], {});\n",
              "        if (!dataTable) return;\n",
              "\n",
              "        const docLinkHtml = 'Like what you see? Visit the ' +\n",
              "          '<a target=\"_blank\" href=https://colab.research.google.com/notebooks/data_table.ipynb>data table notebook</a>'\n",
              "          + ' to learn more about interactive tables.';\n",
              "        element.innerHTML = '';\n",
              "        dataTable['output_type'] = 'display_data';\n",
              "        await google.colab.output.renderOutput(dataTable, element);\n",
              "        const docLink = document.createElement('div');\n",
              "        docLink.innerHTML = docLinkHtml;\n",
              "        element.appendChild(docLink);\n",
              "      }\n",
              "    </script>\n",
              "  </div>\n",
              "\n",
              "\n",
              "<div id=\"df-488077cf-8b77-4207-ba46-dc0f34309d22\">\n",
              "  <button class=\"colab-df-quickchart\" onclick=\"quickchart('df-488077cf-8b77-4207-ba46-dc0f34309d22')\"\n",
              "            title=\"Suggest charts\"\n",
              "            style=\"display:none;\">\n",
              "\n",
              "<svg xmlns=\"http://www.w3.org/2000/svg\" height=\"24px\"viewBox=\"0 0 24 24\"\n",
              "     width=\"24px\">\n",
              "    <g>\n",
              "        <path d=\"M19 3H5c-1.1 0-2 .9-2 2v14c0 1.1.9 2 2 2h14c1.1 0 2-.9 2-2V5c0-1.1-.9-2-2-2zM9 17H7v-7h2v7zm4 0h-2V7h2v10zm4 0h-2v-4h2v4z\"/>\n",
              "    </g>\n",
              "</svg>\n",
              "  </button>\n",
              "\n",
              "<style>\n",
              "  .colab-df-quickchart {\n",
              "      --bg-color: #E8F0FE;\n",
              "      --fill-color: #1967D2;\n",
              "      --hover-bg-color: #E2EBFA;\n",
              "      --hover-fill-color: #174EA6;\n",
              "      --disabled-fill-color: #AAA;\n",
              "      --disabled-bg-color: #DDD;\n",
              "  }\n",
              "\n",
              "  [theme=dark] .colab-df-quickchart {\n",
              "      --bg-color: #3B4455;\n",
              "      --fill-color: #D2E3FC;\n",
              "      --hover-bg-color: #434B5C;\n",
              "      --hover-fill-color: #FFFFFF;\n",
              "      --disabled-bg-color: #3B4455;\n",
              "      --disabled-fill-color: #666;\n",
              "  }\n",
              "\n",
              "  .colab-df-quickchart {\n",
              "    background-color: var(--bg-color);\n",
              "    border: none;\n",
              "    border-radius: 50%;\n",
              "    cursor: pointer;\n",
              "    display: none;\n",
              "    fill: var(--fill-color);\n",
              "    height: 32px;\n",
              "    padding: 0;\n",
              "    width: 32px;\n",
              "  }\n",
              "\n",
              "  .colab-df-quickchart:hover {\n",
              "    background-color: var(--hover-bg-color);\n",
              "    box-shadow: 0 1px 2px rgba(60, 64, 67, 0.3), 0 1px 3px 1px rgba(60, 64, 67, 0.15);\n",
              "    fill: var(--button-hover-fill-color);\n",
              "  }\n",
              "\n",
              "  .colab-df-quickchart-complete:disabled,\n",
              "  .colab-df-quickchart-complete:disabled:hover {\n",
              "    background-color: var(--disabled-bg-color);\n",
              "    fill: var(--disabled-fill-color);\n",
              "    box-shadow: none;\n",
              "  }\n",
              "\n",
              "  .colab-df-spinner {\n",
              "    border: 2px solid var(--fill-color);\n",
              "    border-color: transparent;\n",
              "    border-bottom-color: var(--fill-color);\n",
              "    animation:\n",
              "      spin 1s steps(1) infinite;\n",
              "  }\n",
              "\n",
              "  @keyframes spin {\n",
              "    0% {\n",
              "      border-color: transparent;\n",
              "      border-bottom-color: var(--fill-color);\n",
              "      border-left-color: var(--fill-color);\n",
              "    }\n",
              "    20% {\n",
              "      border-color: transparent;\n",
              "      border-left-color: var(--fill-color);\n",
              "      border-top-color: var(--fill-color);\n",
              "    }\n",
              "    30% {\n",
              "      border-color: transparent;\n",
              "      border-left-color: var(--fill-color);\n",
              "      border-top-color: var(--fill-color);\n",
              "      border-right-color: var(--fill-color);\n",
              "    }\n",
              "    40% {\n",
              "      border-color: transparent;\n",
              "      border-right-color: var(--fill-color);\n",
              "      border-top-color: var(--fill-color);\n",
              "    }\n",
              "    60% {\n",
              "      border-color: transparent;\n",
              "      border-right-color: var(--fill-color);\n",
              "    }\n",
              "    80% {\n",
              "      border-color: transparent;\n",
              "      border-right-color: var(--fill-color);\n",
              "      border-bottom-color: var(--fill-color);\n",
              "    }\n",
              "    90% {\n",
              "      border-color: transparent;\n",
              "      border-bottom-color: var(--fill-color);\n",
              "    }\n",
              "  }\n",
              "</style>\n",
              "\n",
              "  <script>\n",
              "    async function quickchart(key) {\n",
              "      const quickchartButtonEl =\n",
              "        document.querySelector('#' + key + ' button');\n",
              "      quickchartButtonEl.disabled = true;  // To prevent multiple clicks.\n",
              "      quickchartButtonEl.classList.add('colab-df-spinner');\n",
              "      try {\n",
              "        const charts = await google.colab.kernel.invokeFunction(\n",
              "            'suggestCharts', [key], {});\n",
              "      } catch (error) {\n",
              "        console.error('Error during call to suggestCharts:', error);\n",
              "      }\n",
              "      quickchartButtonEl.classList.remove('colab-df-spinner');\n",
              "      quickchartButtonEl.classList.add('colab-df-quickchart-complete');\n",
              "    }\n",
              "    (() => {\n",
              "      let quickchartButtonEl =\n",
              "        document.querySelector('#df-488077cf-8b77-4207-ba46-dc0f34309d22 button');\n",
              "      quickchartButtonEl.style.display =\n",
              "        google.colab.kernel.accessAllowed ? 'block' : 'none';\n",
              "    })();\n",
              "  </script>\n",
              "</div>\n",
              "\n",
              "    </div>\n",
              "  </div>\n"
            ],
            "application/vnd.google.colaboratory.intrinsic+json": {
              "type": "dataframe",
              "variable_name": "Movie_df",
              "summary": "{\n  \"name\": \"Movie_df\",\n  \"rows\": 110,\n  \"fields\": [\n    {\n      \"column\": \"Title\",\n      \"properties\": {\n        \"dtype\": \"string\",\n        \"num_unique_values\": 105,\n        \"samples\": [\n          \"Despicable Me 4\",\n          \"Mangalavaaram\",\n          \"Aranmanai 4\"\n        ],\n        \"semantic_type\": \"\",\n        \"description\": \"\"\n      }\n    },\n    {\n      \"column\": \"Release_Year\",\n      \"properties\": {\n        \"dtype\": \"number\",\n        \"std\": 4,\n        \"min\": 2000,\n        \"max\": 2024,\n        \"num_unique_values\": 15,\n        \"samples\": [\n          2015,\n          2000,\n          2024\n        ],\n        \"semantic_type\": \"\",\n        \"description\": \"\"\n      }\n    },\n    {\n      \"column\": \"Genres\",\n      \"properties\": {\n        \"dtype\": \"string\",\n        \"num_unique_values\": 81,\n        \"samples\": [\n          \"Action & Adventure, Comedy, Mystery & Thriller\",\n          \"Comedy, Horror\",\n          \"Kids & Family, Comedy, Action & Adventure, Animation, Crime, Science-Fiction\"\n        ],\n        \"semantic_type\": \"\",\n        \"description\": \"\"\n      }\n    },\n    {\n      \"column\": \"IMDB_Rating\",\n      \"properties\": {\n        \"dtype\": \"category\",\n        \"num_unique_values\": 40,\n        \"samples\": [\n          \"4.9\",\n          \"6.7\",\n          \"3.3\"\n        ],\n        \"semantic_type\": \"\",\n        \"description\": \"\"\n      }\n    },\n    {\n      \"column\": \"Runtime\",\n      \"properties\": {\n        \"dtype\": \"string\",\n        \"num_unique_values\": 63,\n        \"samples\": [\n          \"1h 1min\",\n          \"2h 45min\",\n          \"2h 27min\"\n        ],\n        \"semantic_type\": \"\",\n        \"description\": \"\"\n      }\n    },\n    {\n      \"column\": \"Age_Rating\",\n      \"properties\": {\n        \"dtype\": \"category\",\n        \"num_unique_values\": 3,\n        \"samples\": [\n          \"UA\",\n          \"A\",\n          \"U\"\n        ],\n        \"semantic_type\": \"\",\n        \"description\": \"\"\n      }\n    },\n    {\n      \"column\": \"Production_Country\",\n      \"properties\": {\n        \"dtype\": \"category\",\n        \"num_unique_values\": 21,\n        \"samples\": [\n          \"India\",\n          \"United States, Hong Kong\",\n          \"Canada, United States\"\n        ],\n        \"semantic_type\": \"\",\n        \"description\": \"\"\n      }\n    },\n    {\n      \"column\": \"Streaming_Services\",\n      \"properties\": {\n        \"dtype\": \"category\",\n        \"num_unique_values\": 42,\n        \"samples\": [\n          \"Sun Nxt\",\n          \"Hotstar, Netflix\",\n          \"Amazon Video, Hotstar, Apple TV\"\n        ],\n        \"semantic_type\": \"\",\n        \"description\": \"\"\n      }\n    },\n    {\n      \"column\": \"URL\",\n      \"properties\": {\n        \"dtype\": \"string\",\n        \"num_unique_values\": 105,\n        \"samples\": [\n          \"https://www.justwatch.com/in/movie/despicable-me-4-2024\",\n          \"https://www.justwatch.com/in/movie/mangalavaram\",\n          \"https://www.justwatch.com/in/movie/aranmanai-4\"\n        ],\n        \"semantic_type\": \"\",\n        \"description\": \"\"\n      }\n    }\n  ]\n}"
            }
          },
          "metadata": {},
          "execution_count": 21
        }
      ]
    },
    {
      "cell_type": "markdown",
      "metadata": {
        "id": "LYQ5acWzJRZr"
      },
      "source": [
        "### **Scraping TV  Show Data**"
      ]
    },
    {
      "cell_type": "code",
      "execution_count": null,
      "metadata": {
        "id": "k324j0BvkpTP"
      },
      "outputs": [],
      "source": [
        "# Specifying the URL from which tv show related data will be fetched\n",
        "tv_url = \"https://www.justwatch.com/in/tv-shows?release_year_from=2000\"\n",
        "soup = fetch_movie_urls(tv_url) # parsing\n",
        "print(soup.prettify()) # printing prettified HTML content"
      ]
    },
    {
      "cell_type": "markdown",
      "metadata": {
        "id": "ev-VUSNvJ-fJ"
      },
      "source": [
        "### **Fetching Tv shows Url details**"
      ]
    },
    {
      "cell_type": "code",
      "execution_count": null,
      "metadata": {
        "id": "eMlwT4I-8gGh"
      },
      "outputs": [],
      "source": [
        "#Fetching Tv show URL's\n",
        "\n",
        "tv_show_list = soup.find_all(\"a\", href = True)\n",
        "tv_show_urls = [link[\"href\"] for link in tv_show_list if \"/tv-show/\" in link[\"href\"]]\n",
        "tv_url_list = []\n",
        "\n",
        "for link in tv_show_urls:\n",
        "  tv_url_list.append(\"https://www.justwatch.com\"+link) # Fetching each movie's specific url"
      ]
    },
    {
      "cell_type": "code",
      "execution_count": null,
      "metadata": {
        "colab": {
          "base_uri": "https://localhost:8080/"
        },
        "id": "rNJJEcsGmv6r",
        "outputId": "667aa6e5-677f-4e5c-a3c0-c6a6739a0917"
      },
      "outputs": [
        {
          "output_type": "stream",
          "name": "stdout",
          "text": [
            "https://www.justwatch.com/in/tv-show/farzi\n",
            "110\n"
          ]
        }
      ],
      "source": [
        "# Testing scraped data\n",
        "print(tv_url_list[25])\n",
        "print(len(tv_url_list))"
      ]
    },
    {
      "cell_type": "markdown",
      "metadata": {
        "id": "1vZLzmqcKDPX"
      },
      "source": [
        "### **Fetching Tv Show Title details**"
      ]
    },
    {
      "cell_type": "code",
      "execution_count": null,
      "metadata": {
        "id": "a8Y6UF6-JLvO"
      },
      "outputs": [],
      "source": [
        "# scrap Tv show title\n",
        "import time\n",
        "\n",
        "Tv_show_title = []\n",
        "soup_sub1 = []\n",
        "for url in tv_url_list:\n",
        "  soup = fetch_movie_urls(url) # Fetching soup using existing function created\n",
        "  if soup:\n",
        "    soup_sub1.append(soup) # storing soup for further use\n",
        "    name = soup.find(\"title\").text\n",
        "    if \"- watch\" in name: # condition for seperating titles with different adjusent characters\n",
        "      name = name.split(\" - watch\")[0] # Finding each movie title\n",
        "      Tv_show_title.append(name)\n",
        "    elif \"- streaming\" in name:\n",
        "      name = name.split(\" - streaming\")[0]\n",
        "      Tv_show_title.append(name)\n",
        "    time.sleep(3) # pausing 3 seconds to avoid making requests in short tine"
      ]
    },
    {
      "cell_type": "code",
      "execution_count": null,
      "metadata": {
        "colab": {
          "base_uri": "https://localhost:8080/"
        },
        "id": "E98j9KADwOId",
        "outputId": "a07597d5-8398-4d75-97e1-3a069ff5e5fe"
      },
      "outputs": [
        {
          "output_type": "stream",
          "name": "stdout",
          "text": [
            "Farzi\n",
            "110\n"
          ]
        }
      ],
      "source": [
        "# testing fetched data\n",
        "print(Tv_show_title[25])\n",
        "print(len(Tv_show_title))"
      ]
    },
    {
      "cell_type": "markdown",
      "metadata": {
        "id": "mEIt9j6RKa9B"
      },
      "source": [
        "### **Fetching Release Year**"
      ]
    },
    {
      "cell_type": "code",
      "execution_count": null,
      "metadata": {
        "id": "r72fyiF8JozW"
      },
      "outputs": [],
      "source": [
        "# Fetching Release Year\n",
        "\n",
        "Release_year = []\n",
        "for soup in soup_sub1:\n",
        "  year = soup.find(\"span\", class_=\"release-year\").text.replace(\"(\", \"\").replace(\")\", \"\") # Fetching year data from desired http parsed data\n",
        "  Release_year.append(year)"
      ]
    },
    {
      "cell_type": "code",
      "execution_count": null,
      "metadata": {
        "colab": {
          "base_uri": "https://localhost:8080/"
        },
        "id": "d36Xkl9Qz1kc",
        "outputId": "3b72591a-7189-46c4-80b8-6fb3b6a5ca9b"
      },
      "outputs": [
        {
          "output_type": "stream",
          "name": "stdout",
          "text": [
            "2023\n",
            "110\n"
          ]
        }
      ],
      "source": [
        "# testing fetched data\n",
        "print(Release_year[25])\n",
        "print(len(Release_year))"
      ]
    },
    {
      "cell_type": "markdown",
      "metadata": {
        "id": "P96pGO9kRCLv"
      },
      "source": [
        "### **Fetching TV Show Genre Details**"
      ]
    },
    {
      "cell_type": "code",
      "execution_count": null,
      "metadata": {
        "id": "Jay8a9xgT43-"
      },
      "outputs": [],
      "source": [
        "# Fetching TV Show Genre Details\n",
        "\n",
        "Tv_show_genre = []\n",
        "for soup in soup_sub1:\n",
        "  genre_raw = soup.find(\"div\", class_=\"title-info title-info\") # Fetching sub soup\n",
        "  genre = list(genre_raw)[1].text.replace(\"Genres\", \"\") # Extracting genre from sub soup\n",
        "  Tv_show_genre.append(genre)"
      ]
    },
    {
      "cell_type": "code",
      "source": [
        "# Testing fetched data\n",
        "print(Tv_show_genre[25])\n",
        "print(len(Tv_show_genre))"
      ],
      "metadata": {
        "colab": {
          "base_uri": "https://localhost:8080/"
        },
        "id": "_wwQ6t8gmTBX",
        "outputId": "f4ab52ec-e0aa-464b-a740-e9fc752b716e"
      },
      "execution_count": null,
      "outputs": [
        {
          "output_type": "stream",
          "name": "stdout",
          "text": [
            "Crime, Drama, Mystery & Thriller\n",
            "110\n"
          ]
        }
      ]
    },
    {
      "cell_type": "markdown",
      "metadata": {
        "id": "hk3eSdDAXQv8"
      },
      "source": [
        "### **Fetching IMDB Rating Details**"
      ]
    },
    {
      "cell_type": "code",
      "execution_count": null,
      "metadata": {
        "id": "EmltFOQEXM2W"
      },
      "outputs": [],
      "source": [
        "# Scrape imdb rating\n",
        "\n",
        "IMDB_Rating = []\n",
        "for soup in soup_sub1:\n",
        "    imdb = soup.find(\"span\", class_=\"imdb-score\") # extracting imdb rating from parsed html\n",
        "    if imdb: # condition for handling missing values\n",
        "      imdb = imdb.text.split(\" \")[0] # removing unwanted characters\n",
        "      IMDB_Rating.append(imdb)\n",
        "    else:\n",
        "      IMDB_Rating.append(np.nan)"
      ]
    },
    {
      "cell_type": "code",
      "source": [
        "# Testing fetched data\n",
        "print(IMDB_Rating[25])\n",
        "print(len(IMDB_Rating))"
      ],
      "metadata": {
        "colab": {
          "base_uri": "https://localhost:8080/"
        },
        "id": "NRqdg0Z4mpss",
        "outputId": "5caee525-a582-4b9d-f326-4fddc6aa6eaf"
      },
      "execution_count": null,
      "outputs": [
        {
          "output_type": "stream",
          "name": "stdout",
          "text": [
            "8.4\n",
            "110\n"
          ]
        }
      ]
    },
    {
      "cell_type": "markdown",
      "metadata": {
        "id": "XZ9nJhmiZB_W"
      },
      "source": [
        "### **Fetching Age Rating Details**"
      ]
    },
    {
      "cell_type": "code",
      "execution_count": null,
      "metadata": {
        "id": "wR9Xo8piZA7p"
      },
      "outputs": [],
      "source": [
        "# scraping age rating\n",
        "\n",
        "Age_Rating = []\n",
        "\n",
        "for soup in soup_sub1:\n",
        "  age_rating_raw = soup.find(\"div\", class_=\"title-info title-info\") # Fetching sub soup\n",
        "\n",
        "  age_rating = list(age_rating_raw)[3].text.replace(\"Age rating\", \"\") # Removing unwanted texts\n",
        "  if age_rating != \"\":\n",
        "    Age_Rating.append(age_rating)\n",
        "  else:\n",
        "    Age_Rating.append(np.nan)"
      ]
    },
    {
      "cell_type": "code",
      "source": [
        "# Testing fetched data\n",
        "print(Age_Rating[25])\n",
        "print(len(Age_Rating))"
      ],
      "metadata": {
        "colab": {
          "base_uri": "https://localhost:8080/"
        },
        "id": "PHw7fQYKnClc",
        "outputId": "8f2536e9-3d8a-4509-d7f8-76d2305f3e22"
      },
      "execution_count": null,
      "outputs": [
        {
          "output_type": "stream",
          "name": "stdout",
          "text": [
            "nan\n",
            "110\n"
          ]
        }
      ]
    },
    {
      "cell_type": "code",
      "source": [
        "print(Age_Rating)"
      ],
      "metadata": {
        "colab": {
          "base_uri": "https://localhost:8080/"
        },
        "id": "_wBPTl6mnZF1",
        "outputId": "2a243f4a-0d38-4ffe-debe-1a9d82a55424"
      },
      "execution_count": null,
      "outputs": [
        {
          "output_type": "stream",
          "name": "stdout",
          "text": [
            "['A', nan, 'A', 'A', nan, nan, 'U', 'A', nan, 'UA', nan, nan, nan, nan, nan, nan, nan, nan, 'A', nan, nan, nan, nan, nan, nan, nan, 'A', nan, nan, nan, nan, 'U', nan, nan, nan, 'U', 'A', nan, nan, nan, nan, nan, nan, 'A', nan, nan, nan, 'A', nan, nan, nan, 'U', nan, 'A', nan, 'A', nan, nan, 'A', 'U', 'A', nan, 'A', nan, nan, nan, nan, nan, nan, 'A', 'A', 'UA', 'A', 'UA', nan, 'U', 'U', 'U', 'U', nan, nan, nan, 'A', nan, 'U', 'A', 'A', nan, nan, 'A', nan, nan, 'A', nan, 'U', 'U', 'U', nan, nan, 'A', 'A', nan, 'A', 'A', nan, nan, nan, nan, nan, nan]\n"
          ]
        }
      ]
    },
    {
      "cell_type": "markdown",
      "metadata": {
        "id": "ii49LH4tdNoN"
      },
      "source": [
        "### **Fetching Production Country details**"
      ]
    },
    {
      "cell_type": "code",
      "execution_count": null,
      "metadata": {
        "id": "xihOeyN8XXDt"
      },
      "outputs": [],
      "source": [
        "# Fetching Production Countries\n",
        "\n",
        "Production_Country = []\n",
        "\n",
        "for soup in soup_sub1:\n",
        "  production_country_raw = soup.find(\"div\", class_=\"title-info title-info\") # Fetching sub soup\n",
        "  production_country = list(production_country_raw)[4].text.replace(\"Production country \", \"\").strip() # extracting production country\n",
        "  Production_Country.append(production_country)"
      ]
    },
    {
      "cell_type": "code",
      "source": [
        "# Testing scraped data\n",
        "print(Production_Country[25])\n",
        "print(len(Production_Country))"
      ],
      "metadata": {
        "colab": {
          "base_uri": "https://localhost:8080/"
        },
        "id": "OOvGzl8knuJY",
        "outputId": "9a06aa5e-93bd-4b8e-cb9e-10fc9ba95c06"
      },
      "execution_count": null,
      "outputs": [
        {
          "output_type": "stream",
          "name": "stdout",
          "text": [
            "India\n",
            "110\n"
          ]
        }
      ]
    },
    {
      "cell_type": "markdown",
      "metadata": {
        "id": "mHZwwgiKdlQm"
      },
      "source": [
        "### **Fetching Streaming Service details**"
      ]
    },
    {
      "cell_type": "code",
      "execution_count": null,
      "metadata": {
        "id": "_MBl6Vqadrl9"
      },
      "outputs": [],
      "source": [
        "# Fetching Streaming Service Details\n",
        "\n",
        "Streaming_Service = []\n",
        "\n",
        "for soup in soup_sub1:\n",
        "  streaming_raw = soup.find(\"img\", class_=\"offer__icon\") # Fetching streaming service detail\n",
        "  if streaming_raw: # Handling missing values\n",
        "    Streaming_Service.append(streaming_raw[\"alt\"])\n",
        "  else:\n",
        "    Streaming_Service.append(np.nan)"
      ]
    },
    {
      "cell_type": "code",
      "source": [
        "# Testing scraped data\n",
        "print(Streaming_Service[25])\n",
        "print(len(Streaming_Service))"
      ],
      "metadata": {
        "colab": {
          "base_uri": "https://localhost:8080/"
        },
        "id": "eT6s4fpLn-YH",
        "outputId": "e5f4c107-4641-4b61-d833-4b3f09aa5d3e"
      },
      "execution_count": null,
      "outputs": [
        {
          "output_type": "stream",
          "name": "stdout",
          "text": [
            "Amazon Prime Video\n",
            "110\n"
          ]
        }
      ]
    },
    {
      "cell_type": "markdown",
      "metadata": {
        "id": "uUOtDJv9gM4a"
      },
      "source": [
        "### **Fetching Duration Details**"
      ]
    },
    {
      "cell_type": "code",
      "execution_count": null,
      "metadata": {
        "id": "o4x4YY6AfoL1"
      },
      "outputs": [],
      "source": [
        "# scrape Runtime\n",
        "\n",
        "Runtime = []\n",
        "\n",
        "for soup in soup_sub1:\n",
        "  runtime_raw = soup.find(\"div\", class_=\"title-info title-info\") # Fetching sub soup\n",
        "  runtime = list(runtime_raw)[2].text.replace(\"Runtime\", \"\") # Extracting runtime from sub soup\n",
        "  Runtime.append(runtime)"
      ]
    },
    {
      "cell_type": "code",
      "source": [
        "# Testing scraped data\n",
        "print(Runtime[25])\n",
        "print(len(Runtime))"
      ],
      "metadata": {
        "colab": {
          "base_uri": "https://localhost:8080/"
        },
        "id": "w_BhqTK7rFZL",
        "outputId": "c860ccca-2729-43be-9f47-dff6c44e3bb0"
      },
      "execution_count": null,
      "outputs": [
        {
          "output_type": "stream",
          "name": "stdout",
          "text": [
            "56min\n",
            "110\n"
          ]
        }
      ]
    },
    {
      "cell_type": "markdown",
      "metadata": {
        "id": "nD4QVPT-nfVR"
      },
      "source": [
        "### **Creating TV Show DataFrame**"
      ]
    },
    {
      "cell_type": "code",
      "execution_count": null,
      "metadata": {
        "id": "W3Lnlb-xip2U"
      },
      "outputs": [],
      "source": [
        "# creating TV Show dataframe using fetched data\n",
        "\n",
        "Tv_Show_df = pd.DataFrame({\n",
        "    \"Title\":Tv_show_title,\n",
        "    \"Release_Year\":Release_year,\n",
        "    \"Genres\":Tv_show_genre,\n",
        "    \"IMDB_Rating\":IMDB_Rating,\n",
        "    \"Runtime\":Runtime,\n",
        "    \"Age_Rating\":Age_Rating,\n",
        "    \"Production_Country\":Production_Country,\n",
        "    \"Streaming_Services\":Streaming_Service,\n",
        "    \"URL\":tv_url_list\n",
        "})"
      ]
    },
    {
      "cell_type": "code",
      "source": [
        "Tv_Show_df.head()"
      ],
      "metadata": {
        "colab": {
          "base_uri": "https://localhost:8080/"
        },
        "id": "cf3_nQdOwSsv",
        "outputId": "13b4c9b2-db36-47f4-b468-a2f175c538ff"
      },
      "execution_count": null,
      "outputs": [
        {
          "output_type": "execute_result",
          "data": {
            "text/plain": [
              "                 Title Release_Year  \\\n",
              "0             Mirzapur         2018   \n",
              "1   Adam's Sweet Agony         2024   \n",
              "2      Gyaarah Gyaarah         2024   \n",
              "3  House of the Dragon         2022   \n",
              "4         Shekhar Home         2024   \n",
              "\n",
              "                                              Genres IMDB_Rating  Runtime  \\\n",
              "0  Action & Adventure, Drama, Crime, Mystery & Th...         8.4    50min   \n",
              "1                                          Animation         NaN     3min   \n",
              "2                    Drama, Fantasy, Science-Fiction         8.3    43min   \n",
              "3  Action & Adventure, Science-Fiction, Drama, Fa...         8.4  1h 3min   \n",
              "4                                       Crime, Drama         8.2    42min   \n",
              "\n",
              "  Age_Rating Production_Country  Streaming_Services  \\\n",
              "0          A              India  Amazon Prime Video   \n",
              "1        NaN              Japan  Amazon Prime Video   \n",
              "2          A              India                Zee5   \n",
              "3          A      United States          Jio Cinema   \n",
              "4        NaN              India          Jio Cinema   \n",
              "\n",
              "                                                 URL  \n",
              "0      https://www.justwatch.com/in/tv-show/mirzapur  \n",
              "1  https://www.justwatch.com/in/tv-show/adams-swe...  \n",
              "2  https://www.justwatch.com/in/tv-show/gyaarah-g...  \n",
              "3  https://www.justwatch.com/in/tv-show/house-of-...  \n",
              "4  https://www.justwatch.com/in/tv-show/shekhar-home  "
            ],
            "text/html": [
              "\n",
              "  <div id=\"df-cbbfef43-a77e-4488-8a05-81a7acd5b659\" class=\"colab-df-container\">\n",
              "    <div>\n",
              "<style scoped>\n",
              "    .dataframe tbody tr th:only-of-type {\n",
              "        vertical-align: middle;\n",
              "    }\n",
              "\n",
              "    .dataframe tbody tr th {\n",
              "        vertical-align: top;\n",
              "    }\n",
              "\n",
              "    .dataframe thead th {\n",
              "        text-align: right;\n",
              "    }\n",
              "</style>\n",
              "<table border=\"1\" class=\"dataframe\">\n",
              "  <thead>\n",
              "    <tr style=\"text-align: right;\">\n",
              "      <th></th>\n",
              "      <th>Title</th>\n",
              "      <th>Release_Year</th>\n",
              "      <th>Genres</th>\n",
              "      <th>IMDB_Rating</th>\n",
              "      <th>Runtime</th>\n",
              "      <th>Age_Rating</th>\n",
              "      <th>Production_Country</th>\n",
              "      <th>Streaming_Services</th>\n",
              "      <th>URL</th>\n",
              "    </tr>\n",
              "  </thead>\n",
              "  <tbody>\n",
              "    <tr>\n",
              "      <th>0</th>\n",
              "      <td>Mirzapur</td>\n",
              "      <td>2018</td>\n",
              "      <td>Action &amp; Adventure, Drama, Crime, Mystery &amp; Th...</td>\n",
              "      <td>8.4</td>\n",
              "      <td>50min</td>\n",
              "      <td>A</td>\n",
              "      <td>India</td>\n",
              "      <td>Amazon Prime Video</td>\n",
              "      <td>https://www.justwatch.com/in/tv-show/mirzapur</td>\n",
              "    </tr>\n",
              "    <tr>\n",
              "      <th>1</th>\n",
              "      <td>Adam's Sweet Agony</td>\n",
              "      <td>2024</td>\n",
              "      <td>Animation</td>\n",
              "      <td>NaN</td>\n",
              "      <td>3min</td>\n",
              "      <td>NaN</td>\n",
              "      <td>Japan</td>\n",
              "      <td>Amazon Prime Video</td>\n",
              "      <td>https://www.justwatch.com/in/tv-show/adams-swe...</td>\n",
              "    </tr>\n",
              "    <tr>\n",
              "      <th>2</th>\n",
              "      <td>Gyaarah Gyaarah</td>\n",
              "      <td>2024</td>\n",
              "      <td>Drama, Fantasy, Science-Fiction</td>\n",
              "      <td>8.3</td>\n",
              "      <td>43min</td>\n",
              "      <td>A</td>\n",
              "      <td>India</td>\n",
              "      <td>Zee5</td>\n",
              "      <td>https://www.justwatch.com/in/tv-show/gyaarah-g...</td>\n",
              "    </tr>\n",
              "    <tr>\n",
              "      <th>3</th>\n",
              "      <td>House of the Dragon</td>\n",
              "      <td>2022</td>\n",
              "      <td>Action &amp; Adventure, Science-Fiction, Drama, Fa...</td>\n",
              "      <td>8.4</td>\n",
              "      <td>1h 3min</td>\n",
              "      <td>A</td>\n",
              "      <td>United States</td>\n",
              "      <td>Jio Cinema</td>\n",
              "      <td>https://www.justwatch.com/in/tv-show/house-of-...</td>\n",
              "    </tr>\n",
              "    <tr>\n",
              "      <th>4</th>\n",
              "      <td>Shekhar Home</td>\n",
              "      <td>2024</td>\n",
              "      <td>Crime, Drama</td>\n",
              "      <td>8.2</td>\n",
              "      <td>42min</td>\n",
              "      <td>NaN</td>\n",
              "      <td>India</td>\n",
              "      <td>Jio Cinema</td>\n",
              "      <td>https://www.justwatch.com/in/tv-show/shekhar-home</td>\n",
              "    </tr>\n",
              "  </tbody>\n",
              "</table>\n",
              "</div>\n",
              "    <div class=\"colab-df-buttons\">\n",
              "\n",
              "  <div class=\"colab-df-container\">\n",
              "    <button class=\"colab-df-convert\" onclick=\"convertToInteractive('df-cbbfef43-a77e-4488-8a05-81a7acd5b659')\"\n",
              "            title=\"Convert this dataframe to an interactive table.\"\n",
              "            style=\"display:none;\">\n",
              "\n",
              "  <svg xmlns=\"http://www.w3.org/2000/svg\" height=\"24px\" viewBox=\"0 -960 960 960\">\n",
              "    <path d=\"M120-120v-720h720v720H120Zm60-500h600v-160H180v160Zm220 220h160v-160H400v160Zm0 220h160v-160H400v160ZM180-400h160v-160H180v160Zm440 0h160v-160H620v160ZM180-180h160v-160H180v160Zm440 0h160v-160H620v160Z\"/>\n",
              "  </svg>\n",
              "    </button>\n",
              "\n",
              "  <style>\n",
              "    .colab-df-container {\n",
              "      display:flex;\n",
              "      gap: 12px;\n",
              "    }\n",
              "\n",
              "    .colab-df-convert {\n",
              "      background-color: #E8F0FE;\n",
              "      border: none;\n",
              "      border-radius: 50%;\n",
              "      cursor: pointer;\n",
              "      display: none;\n",
              "      fill: #1967D2;\n",
              "      height: 32px;\n",
              "      padding: 0 0 0 0;\n",
              "      width: 32px;\n",
              "    }\n",
              "\n",
              "    .colab-df-convert:hover {\n",
              "      background-color: #E2EBFA;\n",
              "      box-shadow: 0px 1px 2px rgba(60, 64, 67, 0.3), 0px 1px 3px 1px rgba(60, 64, 67, 0.15);\n",
              "      fill: #174EA6;\n",
              "    }\n",
              "\n",
              "    .colab-df-buttons div {\n",
              "      margin-bottom: 4px;\n",
              "    }\n",
              "\n",
              "    [theme=dark] .colab-df-convert {\n",
              "      background-color: #3B4455;\n",
              "      fill: #D2E3FC;\n",
              "    }\n",
              "\n",
              "    [theme=dark] .colab-df-convert:hover {\n",
              "      background-color: #434B5C;\n",
              "      box-shadow: 0px 1px 3px 1px rgba(0, 0, 0, 0.15);\n",
              "      filter: drop-shadow(0px 1px 2px rgba(0, 0, 0, 0.3));\n",
              "      fill: #FFFFFF;\n",
              "    }\n",
              "  </style>\n",
              "\n",
              "    <script>\n",
              "      const buttonEl =\n",
              "        document.querySelector('#df-cbbfef43-a77e-4488-8a05-81a7acd5b659 button.colab-df-convert');\n",
              "      buttonEl.style.display =\n",
              "        google.colab.kernel.accessAllowed ? 'block' : 'none';\n",
              "\n",
              "      async function convertToInteractive(key) {\n",
              "        const element = document.querySelector('#df-cbbfef43-a77e-4488-8a05-81a7acd5b659');\n",
              "        const dataTable =\n",
              "          await google.colab.kernel.invokeFunction('convertToInteractive',\n",
              "                                                    [key], {});\n",
              "        if (!dataTable) return;\n",
              "\n",
              "        const docLinkHtml = 'Like what you see? Visit the ' +\n",
              "          '<a target=\"_blank\" href=https://colab.research.google.com/notebooks/data_table.ipynb>data table notebook</a>'\n",
              "          + ' to learn more about interactive tables.';\n",
              "        element.innerHTML = '';\n",
              "        dataTable['output_type'] = 'display_data';\n",
              "        await google.colab.output.renderOutput(dataTable, element);\n",
              "        const docLink = document.createElement('div');\n",
              "        docLink.innerHTML = docLinkHtml;\n",
              "        element.appendChild(docLink);\n",
              "      }\n",
              "    </script>\n",
              "  </div>\n",
              "\n",
              "\n",
              "<div id=\"df-59ad3f62-af8a-4407-91a6-9e9017ec22d6\">\n",
              "  <button class=\"colab-df-quickchart\" onclick=\"quickchart('df-59ad3f62-af8a-4407-91a6-9e9017ec22d6')\"\n",
              "            title=\"Suggest charts\"\n",
              "            style=\"display:none;\">\n",
              "\n",
              "<svg xmlns=\"http://www.w3.org/2000/svg\" height=\"24px\"viewBox=\"0 0 24 24\"\n",
              "     width=\"24px\">\n",
              "    <g>\n",
              "        <path d=\"M19 3H5c-1.1 0-2 .9-2 2v14c0 1.1.9 2 2 2h14c1.1 0 2-.9 2-2V5c0-1.1-.9-2-2-2zM9 17H7v-7h2v7zm4 0h-2V7h2v10zm4 0h-2v-4h2v4z\"/>\n",
              "    </g>\n",
              "</svg>\n",
              "  </button>\n",
              "\n",
              "<style>\n",
              "  .colab-df-quickchart {\n",
              "      --bg-color: #E8F0FE;\n",
              "      --fill-color: #1967D2;\n",
              "      --hover-bg-color: #E2EBFA;\n",
              "      --hover-fill-color: #174EA6;\n",
              "      --disabled-fill-color: #AAA;\n",
              "      --disabled-bg-color: #DDD;\n",
              "  }\n",
              "\n",
              "  [theme=dark] .colab-df-quickchart {\n",
              "      --bg-color: #3B4455;\n",
              "      --fill-color: #D2E3FC;\n",
              "      --hover-bg-color: #434B5C;\n",
              "      --hover-fill-color: #FFFFFF;\n",
              "      --disabled-bg-color: #3B4455;\n",
              "      --disabled-fill-color: #666;\n",
              "  }\n",
              "\n",
              "  .colab-df-quickchart {\n",
              "    background-color: var(--bg-color);\n",
              "    border: none;\n",
              "    border-radius: 50%;\n",
              "    cursor: pointer;\n",
              "    display: none;\n",
              "    fill: var(--fill-color);\n",
              "    height: 32px;\n",
              "    padding: 0;\n",
              "    width: 32px;\n",
              "  }\n",
              "\n",
              "  .colab-df-quickchart:hover {\n",
              "    background-color: var(--hover-bg-color);\n",
              "    box-shadow: 0 1px 2px rgba(60, 64, 67, 0.3), 0 1px 3px 1px rgba(60, 64, 67, 0.15);\n",
              "    fill: var(--button-hover-fill-color);\n",
              "  }\n",
              "\n",
              "  .colab-df-quickchart-complete:disabled,\n",
              "  .colab-df-quickchart-complete:disabled:hover {\n",
              "    background-color: var(--disabled-bg-color);\n",
              "    fill: var(--disabled-fill-color);\n",
              "    box-shadow: none;\n",
              "  }\n",
              "\n",
              "  .colab-df-spinner {\n",
              "    border: 2px solid var(--fill-color);\n",
              "    border-color: transparent;\n",
              "    border-bottom-color: var(--fill-color);\n",
              "    animation:\n",
              "      spin 1s steps(1) infinite;\n",
              "  }\n",
              "\n",
              "  @keyframes spin {\n",
              "    0% {\n",
              "      border-color: transparent;\n",
              "      border-bottom-color: var(--fill-color);\n",
              "      border-left-color: var(--fill-color);\n",
              "    }\n",
              "    20% {\n",
              "      border-color: transparent;\n",
              "      border-left-color: var(--fill-color);\n",
              "      border-top-color: var(--fill-color);\n",
              "    }\n",
              "    30% {\n",
              "      border-color: transparent;\n",
              "      border-left-color: var(--fill-color);\n",
              "      border-top-color: var(--fill-color);\n",
              "      border-right-color: var(--fill-color);\n",
              "    }\n",
              "    40% {\n",
              "      border-color: transparent;\n",
              "      border-right-color: var(--fill-color);\n",
              "      border-top-color: var(--fill-color);\n",
              "    }\n",
              "    60% {\n",
              "      border-color: transparent;\n",
              "      border-right-color: var(--fill-color);\n",
              "    }\n",
              "    80% {\n",
              "      border-color: transparent;\n",
              "      border-right-color: var(--fill-color);\n",
              "      border-bottom-color: var(--fill-color);\n",
              "    }\n",
              "    90% {\n",
              "      border-color: transparent;\n",
              "      border-bottom-color: var(--fill-color);\n",
              "    }\n",
              "  }\n",
              "</style>\n",
              "\n",
              "  <script>\n",
              "    async function quickchart(key) {\n",
              "      const quickchartButtonEl =\n",
              "        document.querySelector('#' + key + ' button');\n",
              "      quickchartButtonEl.disabled = true;  // To prevent multiple clicks.\n",
              "      quickchartButtonEl.classList.add('colab-df-spinner');\n",
              "      try {\n",
              "        const charts = await google.colab.kernel.invokeFunction(\n",
              "            'suggestCharts', [key], {});\n",
              "      } catch (error) {\n",
              "        console.error('Error during call to suggestCharts:', error);\n",
              "      }\n",
              "      quickchartButtonEl.classList.remove('colab-df-spinner');\n",
              "      quickchartButtonEl.classList.add('colab-df-quickchart-complete');\n",
              "    }\n",
              "    (() => {\n",
              "      let quickchartButtonEl =\n",
              "        document.querySelector('#df-59ad3f62-af8a-4407-91a6-9e9017ec22d6 button');\n",
              "      quickchartButtonEl.style.display =\n",
              "        google.colab.kernel.accessAllowed ? 'block' : 'none';\n",
              "    })();\n",
              "  </script>\n",
              "</div>\n",
              "\n",
              "    </div>\n",
              "  </div>\n"
            ],
            "application/vnd.google.colaboratory.intrinsic+json": {
              "type": "dataframe",
              "variable_name": "Tv_Show_df",
              "summary": "{\n  \"name\": \"Tv_Show_df\",\n  \"rows\": 110,\n  \"fields\": [\n    {\n      \"column\": \"Title\",\n      \"properties\": {\n        \"dtype\": \"string\",\n        \"num_unique_values\": 105,\n        \"samples\": [\n          \"Kaos\",\n          \"Worst Ex Ever\",\n          \"Romance in the House\"\n        ],\n        \"semantic_type\": \"\",\n        \"description\": \"\"\n      }\n    },\n    {\n      \"column\": \"Release_Year\",\n      \"properties\": {\n        \"dtype\": \"object\",\n        \"num_unique_values\": 21,\n        \"samples\": [\n          \"2018\",\n          \"2014\",\n          \"2002\"\n        ],\n        \"semantic_type\": \"\",\n        \"description\": \"\"\n      }\n    },\n    {\n      \"column\": \"Genres\",\n      \"properties\": {\n        \"dtype\": \"string\",\n        \"num_unique_values\": 76,\n        \"samples\": [\n          \"Crime, Drama\",\n          \"Drama, Mystery & Thriller, Crime\",\n          \"Drama, History, Mystery & Thriller, War & Military\"\n        ],\n        \"semantic_type\": \"\",\n        \"description\": \"\"\n      }\n    },\n    {\n      \"column\": \"IMDB_Rating\",\n      \"properties\": {\n        \"dtype\": \"category\",\n        \"num_unique_values\": 38,\n        \"samples\": [\n          \"4.3\",\n          \"6.7\",\n          \"9.2\"\n        ],\n        \"semantic_type\": \"\",\n        \"description\": \"\"\n      }\n    },\n    {\n      \"column\": \"Runtime\",\n      \"properties\": {\n        \"dtype\": \"category\",\n        \"num_unique_values\": 42,\n        \"samples\": [\n          \"1h 28min\",\n          \"59min\",\n          \"35min\"\n        ],\n        \"semantic_type\": \"\",\n        \"description\": \"\"\n      }\n    },\n    {\n      \"column\": \"Age_Rating\",\n      \"properties\": {\n        \"dtype\": \"category\",\n        \"num_unique_values\": 3,\n        \"samples\": [\n          \"A\",\n          \"U\",\n          \"UA\"\n        ],\n        \"semantic_type\": \"\",\n        \"description\": \"\"\n      }\n    },\n    {\n      \"column\": \"Production_Country\",\n      \"properties\": {\n        \"dtype\": \"category\",\n        \"num_unique_values\": 20,\n        \"samples\": [\n          \"India\",\n          \"Mexico\",\n          \"United States, United Kingdom\"\n        ],\n        \"semantic_type\": \"\",\n        \"description\": \"\"\n      }\n    },\n    {\n      \"column\": \"Streaming_Services\",\n      \"properties\": {\n        \"dtype\": \"category\",\n        \"num_unique_values\": 11,\n        \"samples\": [\n          \"Hotstar\",\n          \"Amazon Prime Video\",\n          \"Crunchyroll\"\n        ],\n        \"semantic_type\": \"\",\n        \"description\": \"\"\n      }\n    },\n    {\n      \"column\": \"URL\",\n      \"properties\": {\n        \"dtype\": \"string\",\n        \"num_unique_values\": 105,\n        \"samples\": [\n          \"https://www.justwatch.com/in/tv-show/kaos\",\n          \"https://www.justwatch.com/in/tv-show/worst-ex-ever\",\n          \"https://www.justwatch.com/in/tv-show/romance-in-the-house\"\n        ],\n        \"semantic_type\": \"\",\n        \"description\": \"\"\n      }\n    }\n  ]\n}"
            }
          },
          "metadata": {},
          "execution_count": 42
        }
      ]
    },
    {
      "cell_type": "markdown",
      "metadata": {
        "id": "CyqHHKh4IDx6"
      },
      "source": [
        "# **Task 2 :- Data Filtering & Analysis**"
      ]
    },
    {
      "cell_type": "code",
      "execution_count": null,
      "metadata": {
        "id": "ly64H04vH1v9"
      },
      "outputs": [],
      "source": [
        "# combining two dataframes\n",
        "final_df = pd.concat([Movie_df, Tv_Show_df])"
      ]
    },
    {
      "cell_type": "code",
      "source": [
        "final_df"
      ],
      "metadata": {
        "colab": {
          "base_uri": "https://localhost:8080/",
          "height": 614
        },
        "id": "CyJ1SUGJ19aQ",
        "outputId": "1115f208-d0b8-438e-d1c0-5979f70d536f"
      },
      "execution_count": null,
      "outputs": [
        {
          "output_type": "execute_result",
          "data": {
            "text/plain": [
              "                              Title Release_Year  \\\n",
              "0                           Stree 2         2024   \n",
              "1                     Kalki 2898-AD         2024   \n",
              "2                            Munjya         2024   \n",
              "3                              Kill         2024   \n",
              "4                             Stree         2018   \n",
              "..                              ...          ...   \n",
              "105     FBI: International Season 4         2024   \n",
              "106            Call Me Bae Season 1         2024   \n",
              "107         Selling Sunset Season 8         2024   \n",
              "108  Hot Wheels Let's Race Season 2         2024   \n",
              "109             The Circle Season 7         2024   \n",
              "\n",
              "                                                Genres IMDB_Rating   Runtime  \\\n",
              "0                                       Comedy, Horror         7.7  2h 27min   \n",
              "1    Science-Fiction, Drama, Action & Adventure, Fa...         7.2  2h 56min   \n",
              "2                                       Comedy, Horror         6.6   2h 3min   \n",
              "3    Action & Adventure, Crime, Drama, Mystery & Th...         7.6  1h 45min   \n",
              "4                                Horror, Comedy, Drama         7.5   2h 7min   \n",
              "..                                                 ...         ...       ...   \n",
              "105  Crime, Drama, Mystery & Thriller, Action & Adv...         6.5     43min   \n",
              "106                                     Romance, Drama         NaN     39min   \n",
              "107                                         Reality TV         6.6     35min   \n",
              "108  Kids & Family, Science-Fiction, Sport, Animati...         6.5     24min   \n",
              "109                                         Reality TV         7.2     51min   \n",
              "\n",
              "    Age_Rating             Production_Country  \\\n",
              "0           UA                          India   \n",
              "1           UA                          India   \n",
              "2           UA                          India   \n",
              "3            A                          India   \n",
              "4           UA                          India   \n",
              "..         ...                            ...   \n",
              "105        NaN                  United States   \n",
              "106        NaN                          India   \n",
              "107        NaN                  United States   \n",
              "108        NaN                  United States   \n",
              "109        NaN  United Kingdom, United States   \n",
              "\n",
              "                            Streaming_Services  \\\n",
              "0                                          NaN   \n",
              "1    Amazon Video, Amazon Prime Video, Netflix   \n",
              "2                                      Hotstar   \n",
              "3                                          NaN   \n",
              "4                            Hotstar, Apple TV   \n",
              "..                                         ...   \n",
              "105                                        NaN   \n",
              "106                                        NaN   \n",
              "107                                        NaN   \n",
              "108                                        NaN   \n",
              "109                                        NaN   \n",
              "\n",
              "                                                   URL  \n",
              "0           https://www.justwatch.com/in/movie/stree-2  \n",
              "1         https://www.justwatch.com/in/movie/project-k  \n",
              "2            https://www.justwatch.com/in/movie/munjha  \n",
              "3         https://www.justwatch.com/in/movie/kill-2024  \n",
              "4             https://www.justwatch.com/in/movie/stree  \n",
              "..                                                 ...  \n",
              "105  https://www.justwatch.com/in/tv-show/fbi-inter...  \n",
              "106  https://www.justwatch.com/in/tv-show/call-me-b...  \n",
              "107  https://www.justwatch.com/in/tv-show/selling-s...  \n",
              "108  https://www.justwatch.com/in/tv-show/hot-wheel...  \n",
              "109  https://www.justwatch.com/in/tv-show/the-circl...  \n",
              "\n",
              "[220 rows x 9 columns]"
            ],
            "text/html": [
              "\n",
              "  <div id=\"df-4de97e76-4f11-43d0-ace7-6dda2658c11d\" class=\"colab-df-container\">\n",
              "    <div>\n",
              "<style scoped>\n",
              "    .dataframe tbody tr th:only-of-type {\n",
              "        vertical-align: middle;\n",
              "    }\n",
              "\n",
              "    .dataframe tbody tr th {\n",
              "        vertical-align: top;\n",
              "    }\n",
              "\n",
              "    .dataframe thead th {\n",
              "        text-align: right;\n",
              "    }\n",
              "</style>\n",
              "<table border=\"1\" class=\"dataframe\">\n",
              "  <thead>\n",
              "    <tr style=\"text-align: right;\">\n",
              "      <th></th>\n",
              "      <th>Title</th>\n",
              "      <th>Release_Year</th>\n",
              "      <th>Genres</th>\n",
              "      <th>IMDB_Rating</th>\n",
              "      <th>Runtime</th>\n",
              "      <th>Age_Rating</th>\n",
              "      <th>Production_Country</th>\n",
              "      <th>Streaming_Services</th>\n",
              "      <th>URL</th>\n",
              "    </tr>\n",
              "  </thead>\n",
              "  <tbody>\n",
              "    <tr>\n",
              "      <th>0</th>\n",
              "      <td>Stree 2</td>\n",
              "      <td>2024</td>\n",
              "      <td>Comedy, Horror</td>\n",
              "      <td>7.7</td>\n",
              "      <td>2h 27min</td>\n",
              "      <td>UA</td>\n",
              "      <td>India</td>\n",
              "      <td>NaN</td>\n",
              "      <td>https://www.justwatch.com/in/movie/stree-2</td>\n",
              "    </tr>\n",
              "    <tr>\n",
              "      <th>1</th>\n",
              "      <td>Kalki 2898-AD</td>\n",
              "      <td>2024</td>\n",
              "      <td>Science-Fiction, Drama, Action &amp; Adventure, Fa...</td>\n",
              "      <td>7.2</td>\n",
              "      <td>2h 56min</td>\n",
              "      <td>UA</td>\n",
              "      <td>India</td>\n",
              "      <td>Amazon Video, Amazon Prime Video, Netflix</td>\n",
              "      <td>https://www.justwatch.com/in/movie/project-k</td>\n",
              "    </tr>\n",
              "    <tr>\n",
              "      <th>2</th>\n",
              "      <td>Munjya</td>\n",
              "      <td>2024</td>\n",
              "      <td>Comedy, Horror</td>\n",
              "      <td>6.6</td>\n",
              "      <td>2h 3min</td>\n",
              "      <td>UA</td>\n",
              "      <td>India</td>\n",
              "      <td>Hotstar</td>\n",
              "      <td>https://www.justwatch.com/in/movie/munjha</td>\n",
              "    </tr>\n",
              "    <tr>\n",
              "      <th>3</th>\n",
              "      <td>Kill</td>\n",
              "      <td>2024</td>\n",
              "      <td>Action &amp; Adventure, Crime, Drama, Mystery &amp; Th...</td>\n",
              "      <td>7.6</td>\n",
              "      <td>1h 45min</td>\n",
              "      <td>A</td>\n",
              "      <td>India</td>\n",
              "      <td>NaN</td>\n",
              "      <td>https://www.justwatch.com/in/movie/kill-2024</td>\n",
              "    </tr>\n",
              "    <tr>\n",
              "      <th>4</th>\n",
              "      <td>Stree</td>\n",
              "      <td>2018</td>\n",
              "      <td>Horror, Comedy, Drama</td>\n",
              "      <td>7.5</td>\n",
              "      <td>2h 7min</td>\n",
              "      <td>UA</td>\n",
              "      <td>India</td>\n",
              "      <td>Hotstar, Apple TV</td>\n",
              "      <td>https://www.justwatch.com/in/movie/stree</td>\n",
              "    </tr>\n",
              "    <tr>\n",
              "      <th>...</th>\n",
              "      <td>...</td>\n",
              "      <td>...</td>\n",
              "      <td>...</td>\n",
              "      <td>...</td>\n",
              "      <td>...</td>\n",
              "      <td>...</td>\n",
              "      <td>...</td>\n",
              "      <td>...</td>\n",
              "      <td>...</td>\n",
              "    </tr>\n",
              "    <tr>\n",
              "      <th>105</th>\n",
              "      <td>FBI: International Season 4</td>\n",
              "      <td>2024</td>\n",
              "      <td>Crime, Drama, Mystery &amp; Thriller, Action &amp; Adv...</td>\n",
              "      <td>6.5</td>\n",
              "      <td>43min</td>\n",
              "      <td>NaN</td>\n",
              "      <td>United States</td>\n",
              "      <td>NaN</td>\n",
              "      <td>https://www.justwatch.com/in/tv-show/fbi-inter...</td>\n",
              "    </tr>\n",
              "    <tr>\n",
              "      <th>106</th>\n",
              "      <td>Call Me Bae Season 1</td>\n",
              "      <td>2024</td>\n",
              "      <td>Romance, Drama</td>\n",
              "      <td>NaN</td>\n",
              "      <td>39min</td>\n",
              "      <td>NaN</td>\n",
              "      <td>India</td>\n",
              "      <td>NaN</td>\n",
              "      <td>https://www.justwatch.com/in/tv-show/call-me-b...</td>\n",
              "    </tr>\n",
              "    <tr>\n",
              "      <th>107</th>\n",
              "      <td>Selling Sunset Season 8</td>\n",
              "      <td>2024</td>\n",
              "      <td>Reality TV</td>\n",
              "      <td>6.6</td>\n",
              "      <td>35min</td>\n",
              "      <td>NaN</td>\n",
              "      <td>United States</td>\n",
              "      <td>NaN</td>\n",
              "      <td>https://www.justwatch.com/in/tv-show/selling-s...</td>\n",
              "    </tr>\n",
              "    <tr>\n",
              "      <th>108</th>\n",
              "      <td>Hot Wheels Let's Race Season 2</td>\n",
              "      <td>2024</td>\n",
              "      <td>Kids &amp; Family, Science-Fiction, Sport, Animati...</td>\n",
              "      <td>6.5</td>\n",
              "      <td>24min</td>\n",
              "      <td>NaN</td>\n",
              "      <td>United States</td>\n",
              "      <td>NaN</td>\n",
              "      <td>https://www.justwatch.com/in/tv-show/hot-wheel...</td>\n",
              "    </tr>\n",
              "    <tr>\n",
              "      <th>109</th>\n",
              "      <td>The Circle Season 7</td>\n",
              "      <td>2024</td>\n",
              "      <td>Reality TV</td>\n",
              "      <td>7.2</td>\n",
              "      <td>51min</td>\n",
              "      <td>NaN</td>\n",
              "      <td>United Kingdom, United States</td>\n",
              "      <td>NaN</td>\n",
              "      <td>https://www.justwatch.com/in/tv-show/the-circl...</td>\n",
              "    </tr>\n",
              "  </tbody>\n",
              "</table>\n",
              "<p>220 rows × 9 columns</p>\n",
              "</div>\n",
              "    <div class=\"colab-df-buttons\">\n",
              "\n",
              "  <div class=\"colab-df-container\">\n",
              "    <button class=\"colab-df-convert\" onclick=\"convertToInteractive('df-4de97e76-4f11-43d0-ace7-6dda2658c11d')\"\n",
              "            title=\"Convert this dataframe to an interactive table.\"\n",
              "            style=\"display:none;\">\n",
              "\n",
              "  <svg xmlns=\"http://www.w3.org/2000/svg\" height=\"24px\" viewBox=\"0 -960 960 960\">\n",
              "    <path d=\"M120-120v-720h720v720H120Zm60-500h600v-160H180v160Zm220 220h160v-160H400v160Zm0 220h160v-160H400v160ZM180-400h160v-160H180v160Zm440 0h160v-160H620v160ZM180-180h160v-160H180v160Zm440 0h160v-160H620v160Z\"/>\n",
              "  </svg>\n",
              "    </button>\n",
              "\n",
              "  <style>\n",
              "    .colab-df-container {\n",
              "      display:flex;\n",
              "      gap: 12px;\n",
              "    }\n",
              "\n",
              "    .colab-df-convert {\n",
              "      background-color: #E8F0FE;\n",
              "      border: none;\n",
              "      border-radius: 50%;\n",
              "      cursor: pointer;\n",
              "      display: none;\n",
              "      fill: #1967D2;\n",
              "      height: 32px;\n",
              "      padding: 0 0 0 0;\n",
              "      width: 32px;\n",
              "    }\n",
              "\n",
              "    .colab-df-convert:hover {\n",
              "      background-color: #E2EBFA;\n",
              "      box-shadow: 0px 1px 2px rgba(60, 64, 67, 0.3), 0px 1px 3px 1px rgba(60, 64, 67, 0.15);\n",
              "      fill: #174EA6;\n",
              "    }\n",
              "\n",
              "    .colab-df-buttons div {\n",
              "      margin-bottom: 4px;\n",
              "    }\n",
              "\n",
              "    [theme=dark] .colab-df-convert {\n",
              "      background-color: #3B4455;\n",
              "      fill: #D2E3FC;\n",
              "    }\n",
              "\n",
              "    [theme=dark] .colab-df-convert:hover {\n",
              "      background-color: #434B5C;\n",
              "      box-shadow: 0px 1px 3px 1px rgba(0, 0, 0, 0.15);\n",
              "      filter: drop-shadow(0px 1px 2px rgba(0, 0, 0, 0.3));\n",
              "      fill: #FFFFFF;\n",
              "    }\n",
              "  </style>\n",
              "\n",
              "    <script>\n",
              "      const buttonEl =\n",
              "        document.querySelector('#df-4de97e76-4f11-43d0-ace7-6dda2658c11d button.colab-df-convert');\n",
              "      buttonEl.style.display =\n",
              "        google.colab.kernel.accessAllowed ? 'block' : 'none';\n",
              "\n",
              "      async function convertToInteractive(key) {\n",
              "        const element = document.querySelector('#df-4de97e76-4f11-43d0-ace7-6dda2658c11d');\n",
              "        const dataTable =\n",
              "          await google.colab.kernel.invokeFunction('convertToInteractive',\n",
              "                                                    [key], {});\n",
              "        if (!dataTable) return;\n",
              "\n",
              "        const docLinkHtml = 'Like what you see? Visit the ' +\n",
              "          '<a target=\"_blank\" href=https://colab.research.google.com/notebooks/data_table.ipynb>data table notebook</a>'\n",
              "          + ' to learn more about interactive tables.';\n",
              "        element.innerHTML = '';\n",
              "        dataTable['output_type'] = 'display_data';\n",
              "        await google.colab.output.renderOutput(dataTable, element);\n",
              "        const docLink = document.createElement('div');\n",
              "        docLink.innerHTML = docLinkHtml;\n",
              "        element.appendChild(docLink);\n",
              "      }\n",
              "    </script>\n",
              "  </div>\n",
              "\n",
              "\n",
              "<div id=\"df-b6ade4b7-e1f6-4114-b6bb-661c7f7c0b6c\">\n",
              "  <button class=\"colab-df-quickchart\" onclick=\"quickchart('df-b6ade4b7-e1f6-4114-b6bb-661c7f7c0b6c')\"\n",
              "            title=\"Suggest charts\"\n",
              "            style=\"display:none;\">\n",
              "\n",
              "<svg xmlns=\"http://www.w3.org/2000/svg\" height=\"24px\"viewBox=\"0 0 24 24\"\n",
              "     width=\"24px\">\n",
              "    <g>\n",
              "        <path d=\"M19 3H5c-1.1 0-2 .9-2 2v14c0 1.1.9 2 2 2h14c1.1 0 2-.9 2-2V5c0-1.1-.9-2-2-2zM9 17H7v-7h2v7zm4 0h-2V7h2v10zm4 0h-2v-4h2v4z\"/>\n",
              "    </g>\n",
              "</svg>\n",
              "  </button>\n",
              "\n",
              "<style>\n",
              "  .colab-df-quickchart {\n",
              "      --bg-color: #E8F0FE;\n",
              "      --fill-color: #1967D2;\n",
              "      --hover-bg-color: #E2EBFA;\n",
              "      --hover-fill-color: #174EA6;\n",
              "      --disabled-fill-color: #AAA;\n",
              "      --disabled-bg-color: #DDD;\n",
              "  }\n",
              "\n",
              "  [theme=dark] .colab-df-quickchart {\n",
              "      --bg-color: #3B4455;\n",
              "      --fill-color: #D2E3FC;\n",
              "      --hover-bg-color: #434B5C;\n",
              "      --hover-fill-color: #FFFFFF;\n",
              "      --disabled-bg-color: #3B4455;\n",
              "      --disabled-fill-color: #666;\n",
              "  }\n",
              "\n",
              "  .colab-df-quickchart {\n",
              "    background-color: var(--bg-color);\n",
              "    border: none;\n",
              "    border-radius: 50%;\n",
              "    cursor: pointer;\n",
              "    display: none;\n",
              "    fill: var(--fill-color);\n",
              "    height: 32px;\n",
              "    padding: 0;\n",
              "    width: 32px;\n",
              "  }\n",
              "\n",
              "  .colab-df-quickchart:hover {\n",
              "    background-color: var(--hover-bg-color);\n",
              "    box-shadow: 0 1px 2px rgba(60, 64, 67, 0.3), 0 1px 3px 1px rgba(60, 64, 67, 0.15);\n",
              "    fill: var(--button-hover-fill-color);\n",
              "  }\n",
              "\n",
              "  .colab-df-quickchart-complete:disabled,\n",
              "  .colab-df-quickchart-complete:disabled:hover {\n",
              "    background-color: var(--disabled-bg-color);\n",
              "    fill: var(--disabled-fill-color);\n",
              "    box-shadow: none;\n",
              "  }\n",
              "\n",
              "  .colab-df-spinner {\n",
              "    border: 2px solid var(--fill-color);\n",
              "    border-color: transparent;\n",
              "    border-bottom-color: var(--fill-color);\n",
              "    animation:\n",
              "      spin 1s steps(1) infinite;\n",
              "  }\n",
              "\n",
              "  @keyframes spin {\n",
              "    0% {\n",
              "      border-color: transparent;\n",
              "      border-bottom-color: var(--fill-color);\n",
              "      border-left-color: var(--fill-color);\n",
              "    }\n",
              "    20% {\n",
              "      border-color: transparent;\n",
              "      border-left-color: var(--fill-color);\n",
              "      border-top-color: var(--fill-color);\n",
              "    }\n",
              "    30% {\n",
              "      border-color: transparent;\n",
              "      border-left-color: var(--fill-color);\n",
              "      border-top-color: var(--fill-color);\n",
              "      border-right-color: var(--fill-color);\n",
              "    }\n",
              "    40% {\n",
              "      border-color: transparent;\n",
              "      border-right-color: var(--fill-color);\n",
              "      border-top-color: var(--fill-color);\n",
              "    }\n",
              "    60% {\n",
              "      border-color: transparent;\n",
              "      border-right-color: var(--fill-color);\n",
              "    }\n",
              "    80% {\n",
              "      border-color: transparent;\n",
              "      border-right-color: var(--fill-color);\n",
              "      border-bottom-color: var(--fill-color);\n",
              "    }\n",
              "    90% {\n",
              "      border-color: transparent;\n",
              "      border-bottom-color: var(--fill-color);\n",
              "    }\n",
              "  }\n",
              "</style>\n",
              "\n",
              "  <script>\n",
              "    async function quickchart(key) {\n",
              "      const quickchartButtonEl =\n",
              "        document.querySelector('#' + key + ' button');\n",
              "      quickchartButtonEl.disabled = true;  // To prevent multiple clicks.\n",
              "      quickchartButtonEl.classList.add('colab-df-spinner');\n",
              "      try {\n",
              "        const charts = await google.colab.kernel.invokeFunction(\n",
              "            'suggestCharts', [key], {});\n",
              "      } catch (error) {\n",
              "        console.error('Error during call to suggestCharts:', error);\n",
              "      }\n",
              "      quickchartButtonEl.classList.remove('colab-df-spinner');\n",
              "      quickchartButtonEl.classList.add('colab-df-quickchart-complete');\n",
              "    }\n",
              "    (() => {\n",
              "      let quickchartButtonEl =\n",
              "        document.querySelector('#df-b6ade4b7-e1f6-4114-b6bb-661c7f7c0b6c button');\n",
              "      quickchartButtonEl.style.display =\n",
              "        google.colab.kernel.accessAllowed ? 'block' : 'none';\n",
              "    })();\n",
              "  </script>\n",
              "</div>\n",
              "\n",
              "  <div id=\"id_56c288d1-4bf9-49bb-b8b0-1a9d2d6f6589\">\n",
              "    <style>\n",
              "      .colab-df-generate {\n",
              "        background-color: #E8F0FE;\n",
              "        border: none;\n",
              "        border-radius: 50%;\n",
              "        cursor: pointer;\n",
              "        display: none;\n",
              "        fill: #1967D2;\n",
              "        height: 32px;\n",
              "        padding: 0 0 0 0;\n",
              "        width: 32px;\n",
              "      }\n",
              "\n",
              "      .colab-df-generate:hover {\n",
              "        background-color: #E2EBFA;\n",
              "        box-shadow: 0px 1px 2px rgba(60, 64, 67, 0.3), 0px 1px 3px 1px rgba(60, 64, 67, 0.15);\n",
              "        fill: #174EA6;\n",
              "      }\n",
              "\n",
              "      [theme=dark] .colab-df-generate {\n",
              "        background-color: #3B4455;\n",
              "        fill: #D2E3FC;\n",
              "      }\n",
              "\n",
              "      [theme=dark] .colab-df-generate:hover {\n",
              "        background-color: #434B5C;\n",
              "        box-shadow: 0px 1px 3px 1px rgba(0, 0, 0, 0.15);\n",
              "        filter: drop-shadow(0px 1px 2px rgba(0, 0, 0, 0.3));\n",
              "        fill: #FFFFFF;\n",
              "      }\n",
              "    </style>\n",
              "    <button class=\"colab-df-generate\" onclick=\"generateWithVariable('final_df')\"\n",
              "            title=\"Generate code using this dataframe.\"\n",
              "            style=\"display:none;\">\n",
              "\n",
              "  <svg xmlns=\"http://www.w3.org/2000/svg\" height=\"24px\"viewBox=\"0 0 24 24\"\n",
              "       width=\"24px\">\n",
              "    <path d=\"M7,19H8.4L18.45,9,17,7.55,7,17.6ZM5,21V16.75L18.45,3.32a2,2,0,0,1,2.83,0l1.4,1.43a1.91,1.91,0,0,1,.58,1.4,1.91,1.91,0,0,1-.58,1.4L9.25,21ZM18.45,9,17,7.55Zm-12,3A5.31,5.31,0,0,0,4.9,8.1,5.31,5.31,0,0,0,1,6.5,5.31,5.31,0,0,0,4.9,4.9,5.31,5.31,0,0,0,6.5,1,5.31,5.31,0,0,0,8.1,4.9,5.31,5.31,0,0,0,12,6.5,5.46,5.46,0,0,0,6.5,12Z\"/>\n",
              "  </svg>\n",
              "    </button>\n",
              "    <script>\n",
              "      (() => {\n",
              "      const buttonEl =\n",
              "        document.querySelector('#id_56c288d1-4bf9-49bb-b8b0-1a9d2d6f6589 button.colab-df-generate');\n",
              "      buttonEl.style.display =\n",
              "        google.colab.kernel.accessAllowed ? 'block' : 'none';\n",
              "\n",
              "      buttonEl.onclick = () => {\n",
              "        google.colab.notebook.generateWithVariable('final_df');\n",
              "      }\n",
              "      })();\n",
              "    </script>\n",
              "  </div>\n",
              "\n",
              "    </div>\n",
              "  </div>\n"
            ],
            "application/vnd.google.colaboratory.intrinsic+json": {
              "type": "dataframe",
              "variable_name": "final_df",
              "summary": "{\n  \"name\": \"final_df\",\n  \"rows\": 220,\n  \"fields\": [\n    {\n      \"column\": \"Title\",\n      \"properties\": {\n        \"dtype\": \"string\",\n        \"num_unique_values\": 210,\n        \"samples\": [\n          \"Despicable Me 4\",\n          \"Jujutsu Kaisen\",\n          \"Harry Potter and the Philosopher's Stone\"\n        ],\n        \"semantic_type\": \"\",\n        \"description\": \"\"\n      }\n    },\n    {\n      \"column\": \"Release_Year\",\n      \"properties\": {\n        \"dtype\": \"date\",\n        \"min\": \"1970-01-01 00:00:00.000002\",\n        \"max\": \"2024-01-01 00:00:00\",\n        \"num_unique_values\": 36,\n        \"samples\": [\n          \"2003\",\n          2001,\n          \"2021\"\n        ],\n        \"semantic_type\": \"\",\n        \"description\": \"\"\n      }\n    },\n    {\n      \"column\": \"Genres\",\n      \"properties\": {\n        \"dtype\": \"string\",\n        \"num_unique_values\": 146,\n        \"samples\": [\n          \"Drama, Romance, Mystery & Thriller, Crime\",\n          \"Science-Fiction, Horror, Mystery & Thriller, Drama, Fantasy\",\n          \"Romance, Comedy, Drama\"\n        ],\n        \"semantic_type\": \"\",\n        \"description\": \"\"\n      }\n    },\n    {\n      \"column\": \"IMDB_Rating\",\n      \"properties\": {\n        \"dtype\": \"category\",\n        \"num_unique_values\": 52,\n        \"samples\": [\n          \"4.9\",\n          \"9.2\",\n          \"3.4\"\n        ],\n        \"semantic_type\": \"\",\n        \"description\": \"\"\n      }\n    },\n    {\n      \"column\": \"Runtime\",\n      \"properties\": {\n        \"dtype\": \"category\",\n        \"num_unique_values\": 104,\n        \"samples\": [\n          \"1h 39min\",\n          \"43min\",\n          \"3min\"\n        ],\n        \"semantic_type\": \"\",\n        \"description\": \"\"\n      }\n    },\n    {\n      \"column\": \"Age_Rating\",\n      \"properties\": {\n        \"dtype\": \"category\",\n        \"num_unique_values\": 3,\n        \"samples\": [\n          \"UA\",\n          \"A\",\n          \"U\"\n        ],\n        \"semantic_type\": \"\",\n        \"description\": \"\"\n      }\n    },\n    {\n      \"column\": \"Production_Country\",\n      \"properties\": {\n        \"dtype\": \"category\",\n        \"num_unique_values\": 33,\n        \"samples\": [\n          \"Mexico\",\n          \"Canada, United States\",\n          \"China\"\n        ],\n        \"semantic_type\": \"\",\n        \"description\": \"\"\n      }\n    },\n    {\n      \"column\": \"Streaming_Services\",\n      \"properties\": {\n        \"dtype\": \"category\",\n        \"num_unique_values\": 48,\n        \"samples\": [\n          \"Jio Cinema, Amazon Video, Netflix, Apple TV\",\n          \"Apple TV+, Netflix\",\n          \"Amazon Video, Amazon Prime Video, Jio Cinema\"\n        ],\n        \"semantic_type\": \"\",\n        \"description\": \"\"\n      }\n    },\n    {\n      \"column\": \"URL\",\n      \"properties\": {\n        \"dtype\": \"string\",\n        \"num_unique_values\": 210,\n        \"samples\": [\n          \"https://www.justwatch.com/in/movie/despicable-me-4-2024\",\n          \"https://www.justwatch.com/in/tv-show/jujutsu-kaisen\",\n          \"https://www.justwatch.com/in/movie/harry-potter-and-the-philosophers-stone\"\n        ],\n        \"semantic_type\": \"\",\n        \"description\": \"\"\n      }\n    }\n  ]\n}"
            }
          },
          "metadata": {},
          "execution_count": 44
        }
      ]
    },
    {
      "cell_type": "code",
      "source": [
        "final_df.info()"
      ],
      "metadata": {
        "colab": {
          "base_uri": "https://localhost:8080/"
        },
        "id": "M0COJQ2p5lGF",
        "outputId": "5f9cf9f1-09af-4842-f527-225ef3cdaa60"
      },
      "execution_count": null,
      "outputs": [
        {
          "output_type": "stream",
          "name": "stdout",
          "text": [
            "<class 'pandas.core.frame.DataFrame'>\n",
            "Index: 220 entries, 0 to 109\n",
            "Data columns (total 9 columns):\n",
            " #   Column              Non-Null Count  Dtype \n",
            "---  ------              --------------  ----- \n",
            " 0   Title               220 non-null    object\n",
            " 1   Release_Year        220 non-null    object\n",
            " 2   Genres              220 non-null    object\n",
            " 3   IMDB_Rating         212 non-null    object\n",
            " 4   Runtime             220 non-null    object\n",
            " 5   Age_Rating          119 non-null    object\n",
            " 6   Production_Country  220 non-null    object\n",
            " 7   Streaming_Services  192 non-null    object\n",
            " 8   URL                 220 non-null    object\n",
            "dtypes: object(9)\n",
            "memory usage: 25.3+ KB\n"
          ]
        }
      ]
    },
    {
      "cell_type": "code",
      "source": [
        "final_df.describe()"
      ],
      "metadata": {
        "colab": {
          "base_uri": "https://localhost:8080/",
          "height": 175
        },
        "id": "pE7d8S6O5pvK",
        "outputId": "11deb9de-eb25-49de-f987-9198221fc585"
      },
      "execution_count": null,
      "outputs": [
        {
          "output_type": "execute_result",
          "data": {
            "text/plain": [
              "          Title  Release_Year Genres IMDB_Rating Runtime Age_Rating  \\\n",
              "count       220           220    220         212     220        119   \n",
              "unique      210            36    146          52     104          3   \n",
              "top     Stree 2          2024  Drama         7.7   43min          A   \n",
              "freq          2            71     13          12      12         49   \n",
              "\n",
              "       Production_Country Streaming_Services  \\\n",
              "count                 220                192   \n",
              "unique                 33                 48   \n",
              "top                 India            Netflix   \n",
              "freq                   91                 44   \n",
              "\n",
              "                                               URL  \n",
              "count                                          220  \n",
              "unique                                         210  \n",
              "top     https://www.justwatch.com/in/movie/stree-2  \n",
              "freq                                             2  "
            ],
            "text/html": [
              "\n",
              "  <div id=\"df-2e65133b-aed1-4bbb-9601-f9b6a1ee861c\" class=\"colab-df-container\">\n",
              "    <div>\n",
              "<style scoped>\n",
              "    .dataframe tbody tr th:only-of-type {\n",
              "        vertical-align: middle;\n",
              "    }\n",
              "\n",
              "    .dataframe tbody tr th {\n",
              "        vertical-align: top;\n",
              "    }\n",
              "\n",
              "    .dataframe thead th {\n",
              "        text-align: right;\n",
              "    }\n",
              "</style>\n",
              "<table border=\"1\" class=\"dataframe\">\n",
              "  <thead>\n",
              "    <tr style=\"text-align: right;\">\n",
              "      <th></th>\n",
              "      <th>Title</th>\n",
              "      <th>Release_Year</th>\n",
              "      <th>Genres</th>\n",
              "      <th>IMDB_Rating</th>\n",
              "      <th>Runtime</th>\n",
              "      <th>Age_Rating</th>\n",
              "      <th>Production_Country</th>\n",
              "      <th>Streaming_Services</th>\n",
              "      <th>URL</th>\n",
              "    </tr>\n",
              "  </thead>\n",
              "  <tbody>\n",
              "    <tr>\n",
              "      <th>count</th>\n",
              "      <td>220</td>\n",
              "      <td>220</td>\n",
              "      <td>220</td>\n",
              "      <td>212</td>\n",
              "      <td>220</td>\n",
              "      <td>119</td>\n",
              "      <td>220</td>\n",
              "      <td>192</td>\n",
              "      <td>220</td>\n",
              "    </tr>\n",
              "    <tr>\n",
              "      <th>unique</th>\n",
              "      <td>210</td>\n",
              "      <td>36</td>\n",
              "      <td>146</td>\n",
              "      <td>52</td>\n",
              "      <td>104</td>\n",
              "      <td>3</td>\n",
              "      <td>33</td>\n",
              "      <td>48</td>\n",
              "      <td>210</td>\n",
              "    </tr>\n",
              "    <tr>\n",
              "      <th>top</th>\n",
              "      <td>Stree 2</td>\n",
              "      <td>2024</td>\n",
              "      <td>Drama</td>\n",
              "      <td>7.7</td>\n",
              "      <td>43min</td>\n",
              "      <td>A</td>\n",
              "      <td>India</td>\n",
              "      <td>Netflix</td>\n",
              "      <td>https://www.justwatch.com/in/movie/stree-2</td>\n",
              "    </tr>\n",
              "    <tr>\n",
              "      <th>freq</th>\n",
              "      <td>2</td>\n",
              "      <td>71</td>\n",
              "      <td>13</td>\n",
              "      <td>12</td>\n",
              "      <td>12</td>\n",
              "      <td>49</td>\n",
              "      <td>91</td>\n",
              "      <td>44</td>\n",
              "      <td>2</td>\n",
              "    </tr>\n",
              "  </tbody>\n",
              "</table>\n",
              "</div>\n",
              "    <div class=\"colab-df-buttons\">\n",
              "\n",
              "  <div class=\"colab-df-container\">\n",
              "    <button class=\"colab-df-convert\" onclick=\"convertToInteractive('df-2e65133b-aed1-4bbb-9601-f9b6a1ee861c')\"\n",
              "            title=\"Convert this dataframe to an interactive table.\"\n",
              "            style=\"display:none;\">\n",
              "\n",
              "  <svg xmlns=\"http://www.w3.org/2000/svg\" height=\"24px\" viewBox=\"0 -960 960 960\">\n",
              "    <path d=\"M120-120v-720h720v720H120Zm60-500h600v-160H180v160Zm220 220h160v-160H400v160Zm0 220h160v-160H400v160ZM180-400h160v-160H180v160Zm440 0h160v-160H620v160ZM180-180h160v-160H180v160Zm440 0h160v-160H620v160Z\"/>\n",
              "  </svg>\n",
              "    </button>\n",
              "\n",
              "  <style>\n",
              "    .colab-df-container {\n",
              "      display:flex;\n",
              "      gap: 12px;\n",
              "    }\n",
              "\n",
              "    .colab-df-convert {\n",
              "      background-color: #E8F0FE;\n",
              "      border: none;\n",
              "      border-radius: 50%;\n",
              "      cursor: pointer;\n",
              "      display: none;\n",
              "      fill: #1967D2;\n",
              "      height: 32px;\n",
              "      padding: 0 0 0 0;\n",
              "      width: 32px;\n",
              "    }\n",
              "\n",
              "    .colab-df-convert:hover {\n",
              "      background-color: #E2EBFA;\n",
              "      box-shadow: 0px 1px 2px rgba(60, 64, 67, 0.3), 0px 1px 3px 1px rgba(60, 64, 67, 0.15);\n",
              "      fill: #174EA6;\n",
              "    }\n",
              "\n",
              "    .colab-df-buttons div {\n",
              "      margin-bottom: 4px;\n",
              "    }\n",
              "\n",
              "    [theme=dark] .colab-df-convert {\n",
              "      background-color: #3B4455;\n",
              "      fill: #D2E3FC;\n",
              "    }\n",
              "\n",
              "    [theme=dark] .colab-df-convert:hover {\n",
              "      background-color: #434B5C;\n",
              "      box-shadow: 0px 1px 3px 1px rgba(0, 0, 0, 0.15);\n",
              "      filter: drop-shadow(0px 1px 2px rgba(0, 0, 0, 0.3));\n",
              "      fill: #FFFFFF;\n",
              "    }\n",
              "  </style>\n",
              "\n",
              "    <script>\n",
              "      const buttonEl =\n",
              "        document.querySelector('#df-2e65133b-aed1-4bbb-9601-f9b6a1ee861c button.colab-df-convert');\n",
              "      buttonEl.style.display =\n",
              "        google.colab.kernel.accessAllowed ? 'block' : 'none';\n",
              "\n",
              "      async function convertToInteractive(key) {\n",
              "        const element = document.querySelector('#df-2e65133b-aed1-4bbb-9601-f9b6a1ee861c');\n",
              "        const dataTable =\n",
              "          await google.colab.kernel.invokeFunction('convertToInteractive',\n",
              "                                                    [key], {});\n",
              "        if (!dataTable) return;\n",
              "\n",
              "        const docLinkHtml = 'Like what you see? Visit the ' +\n",
              "          '<a target=\"_blank\" href=https://colab.research.google.com/notebooks/data_table.ipynb>data table notebook</a>'\n",
              "          + ' to learn more about interactive tables.';\n",
              "        element.innerHTML = '';\n",
              "        dataTable['output_type'] = 'display_data';\n",
              "        await google.colab.output.renderOutput(dataTable, element);\n",
              "        const docLink = document.createElement('div');\n",
              "        docLink.innerHTML = docLinkHtml;\n",
              "        element.appendChild(docLink);\n",
              "      }\n",
              "    </script>\n",
              "  </div>\n",
              "\n",
              "\n",
              "<div id=\"df-283d887b-5bab-4097-966e-dae423c9dcbb\">\n",
              "  <button class=\"colab-df-quickchart\" onclick=\"quickchart('df-283d887b-5bab-4097-966e-dae423c9dcbb')\"\n",
              "            title=\"Suggest charts\"\n",
              "            style=\"display:none;\">\n",
              "\n",
              "<svg xmlns=\"http://www.w3.org/2000/svg\" height=\"24px\"viewBox=\"0 0 24 24\"\n",
              "     width=\"24px\">\n",
              "    <g>\n",
              "        <path d=\"M19 3H5c-1.1 0-2 .9-2 2v14c0 1.1.9 2 2 2h14c1.1 0 2-.9 2-2V5c0-1.1-.9-2-2-2zM9 17H7v-7h2v7zm4 0h-2V7h2v10zm4 0h-2v-4h2v4z\"/>\n",
              "    </g>\n",
              "</svg>\n",
              "  </button>\n",
              "\n",
              "<style>\n",
              "  .colab-df-quickchart {\n",
              "      --bg-color: #E8F0FE;\n",
              "      --fill-color: #1967D2;\n",
              "      --hover-bg-color: #E2EBFA;\n",
              "      --hover-fill-color: #174EA6;\n",
              "      --disabled-fill-color: #AAA;\n",
              "      --disabled-bg-color: #DDD;\n",
              "  }\n",
              "\n",
              "  [theme=dark] .colab-df-quickchart {\n",
              "      --bg-color: #3B4455;\n",
              "      --fill-color: #D2E3FC;\n",
              "      --hover-bg-color: #434B5C;\n",
              "      --hover-fill-color: #FFFFFF;\n",
              "      --disabled-bg-color: #3B4455;\n",
              "      --disabled-fill-color: #666;\n",
              "  }\n",
              "\n",
              "  .colab-df-quickchart {\n",
              "    background-color: var(--bg-color);\n",
              "    border: none;\n",
              "    border-radius: 50%;\n",
              "    cursor: pointer;\n",
              "    display: none;\n",
              "    fill: var(--fill-color);\n",
              "    height: 32px;\n",
              "    padding: 0;\n",
              "    width: 32px;\n",
              "  }\n",
              "\n",
              "  .colab-df-quickchart:hover {\n",
              "    background-color: var(--hover-bg-color);\n",
              "    box-shadow: 0 1px 2px rgba(60, 64, 67, 0.3), 0 1px 3px 1px rgba(60, 64, 67, 0.15);\n",
              "    fill: var(--button-hover-fill-color);\n",
              "  }\n",
              "\n",
              "  .colab-df-quickchart-complete:disabled,\n",
              "  .colab-df-quickchart-complete:disabled:hover {\n",
              "    background-color: var(--disabled-bg-color);\n",
              "    fill: var(--disabled-fill-color);\n",
              "    box-shadow: none;\n",
              "  }\n",
              "\n",
              "  .colab-df-spinner {\n",
              "    border: 2px solid var(--fill-color);\n",
              "    border-color: transparent;\n",
              "    border-bottom-color: var(--fill-color);\n",
              "    animation:\n",
              "      spin 1s steps(1) infinite;\n",
              "  }\n",
              "\n",
              "  @keyframes spin {\n",
              "    0% {\n",
              "      border-color: transparent;\n",
              "      border-bottom-color: var(--fill-color);\n",
              "      border-left-color: var(--fill-color);\n",
              "    }\n",
              "    20% {\n",
              "      border-color: transparent;\n",
              "      border-left-color: var(--fill-color);\n",
              "      border-top-color: var(--fill-color);\n",
              "    }\n",
              "    30% {\n",
              "      border-color: transparent;\n",
              "      border-left-color: var(--fill-color);\n",
              "      border-top-color: var(--fill-color);\n",
              "      border-right-color: var(--fill-color);\n",
              "    }\n",
              "    40% {\n",
              "      border-color: transparent;\n",
              "      border-right-color: var(--fill-color);\n",
              "      border-top-color: var(--fill-color);\n",
              "    }\n",
              "    60% {\n",
              "      border-color: transparent;\n",
              "      border-right-color: var(--fill-color);\n",
              "    }\n",
              "    80% {\n",
              "      border-color: transparent;\n",
              "      border-right-color: var(--fill-color);\n",
              "      border-bottom-color: var(--fill-color);\n",
              "    }\n",
              "    90% {\n",
              "      border-color: transparent;\n",
              "      border-bottom-color: var(--fill-color);\n",
              "    }\n",
              "  }\n",
              "</style>\n",
              "\n",
              "  <script>\n",
              "    async function quickchart(key) {\n",
              "      const quickchartButtonEl =\n",
              "        document.querySelector('#' + key + ' button');\n",
              "      quickchartButtonEl.disabled = true;  // To prevent multiple clicks.\n",
              "      quickchartButtonEl.classList.add('colab-df-spinner');\n",
              "      try {\n",
              "        const charts = await google.colab.kernel.invokeFunction(\n",
              "            'suggestCharts', [key], {});\n",
              "      } catch (error) {\n",
              "        console.error('Error during call to suggestCharts:', error);\n",
              "      }\n",
              "      quickchartButtonEl.classList.remove('colab-df-spinner');\n",
              "      quickchartButtonEl.classList.add('colab-df-quickchart-complete');\n",
              "    }\n",
              "    (() => {\n",
              "      let quickchartButtonEl =\n",
              "        document.querySelector('#df-283d887b-5bab-4097-966e-dae423c9dcbb button');\n",
              "      quickchartButtonEl.style.display =\n",
              "        google.colab.kernel.accessAllowed ? 'block' : 'none';\n",
              "    })();\n",
              "  </script>\n",
              "</div>\n",
              "\n",
              "    </div>\n",
              "  </div>\n"
            ],
            "application/vnd.google.colaboratory.intrinsic+json": {
              "type": "dataframe",
              "summary": "{\n  \"name\": \"final_df\",\n  \"rows\": 4,\n  \"fields\": [\n    {\n      \"column\": \"Title\",\n      \"properties\": {\n        \"dtype\": \"string\",\n        \"num_unique_values\": 4,\n        \"samples\": [\n          210,\n          \"2\",\n          \"220\"\n        ],\n        \"semantic_type\": \"\",\n        \"description\": \"\"\n      }\n    },\n    {\n      \"column\": \"Release_Year\",\n      \"properties\": {\n        \"dtype\": \"number\",\n        \"std\": 960,\n        \"min\": 36,\n        \"max\": 2024,\n        \"num_unique_values\": 4,\n        \"samples\": [\n          36,\n          71,\n          220\n        ],\n        \"semantic_type\": \"\",\n        \"description\": \"\"\n      }\n    },\n    {\n      \"column\": \"Genres\",\n      \"properties\": {\n        \"dtype\": \"string\",\n        \"num_unique_values\": 4,\n        \"samples\": [\n          146,\n          \"13\",\n          \"220\"\n        ],\n        \"semantic_type\": \"\",\n        \"description\": \"\"\n      }\n    },\n    {\n      \"column\": \"IMDB_Rating\",\n      \"properties\": {\n        \"dtype\": \"string\",\n        \"num_unique_values\": 4,\n        \"samples\": [\n          52,\n          \"12\",\n          \"212\"\n        ],\n        \"semantic_type\": \"\",\n        \"description\": \"\"\n      }\n    },\n    {\n      \"column\": \"Runtime\",\n      \"properties\": {\n        \"dtype\": \"string\",\n        \"num_unique_values\": 4,\n        \"samples\": [\n          104,\n          \"12\",\n          \"220\"\n        ],\n        \"semantic_type\": \"\",\n        \"description\": \"\"\n      }\n    },\n    {\n      \"column\": \"Age_Rating\",\n      \"properties\": {\n        \"dtype\": \"string\",\n        \"num_unique_values\": 4,\n        \"samples\": [\n          3,\n          \"49\",\n          \"119\"\n        ],\n        \"semantic_type\": \"\",\n        \"description\": \"\"\n      }\n    },\n    {\n      \"column\": \"Production_Country\",\n      \"properties\": {\n        \"dtype\": \"string\",\n        \"num_unique_values\": 4,\n        \"samples\": [\n          33,\n          \"91\",\n          \"220\"\n        ],\n        \"semantic_type\": \"\",\n        \"description\": \"\"\n      }\n    },\n    {\n      \"column\": \"Streaming_Services\",\n      \"properties\": {\n        \"dtype\": \"string\",\n        \"num_unique_values\": 4,\n        \"samples\": [\n          48,\n          \"44\",\n          \"192\"\n        ],\n        \"semantic_type\": \"\",\n        \"description\": \"\"\n      }\n    },\n    {\n      \"column\": \"URL\",\n      \"properties\": {\n        \"dtype\": \"string\",\n        \"num_unique_values\": 4,\n        \"samples\": [\n          210,\n          \"2\",\n          \"220\"\n        ],\n        \"semantic_type\": \"\",\n        \"description\": \"\"\n      }\n    }\n  ]\n}"
            }
          },
          "metadata": {},
          "execution_count": 46
        }
      ]
    },
    {
      "cell_type": "code",
      "source": [
        "final_df[\"Release_Year\"] = final_df[\"Release_Year\"].astype(int)\n",
        "final_df[\"IMDB_Rating\"] = final_df[\"IMDB_Rating\"].astype(float)"
      ],
      "metadata": {
        "id": "XcJYXCp61d-H"
      },
      "execution_count": null,
      "outputs": []
    },
    {
      "cell_type": "code",
      "source": [
        "final_df.info()"
      ],
      "metadata": {
        "colab": {
          "base_uri": "https://localhost:8080/"
        },
        "id": "9E03rvxp0tV8",
        "outputId": "e9ab85d9-e4c7-4860-96d7-da773c470df3"
      },
      "execution_count": null,
      "outputs": [
        {
          "output_type": "stream",
          "name": "stdout",
          "text": [
            "<class 'pandas.core.frame.DataFrame'>\n",
            "Index: 220 entries, 0 to 109\n",
            "Data columns (total 9 columns):\n",
            " #   Column              Non-Null Count  Dtype  \n",
            "---  ------              --------------  -----  \n",
            " 0   Title               220 non-null    object \n",
            " 1   Release_Year        220 non-null    int64  \n",
            " 2   Genres              220 non-null    object \n",
            " 3   IMDB_Rating         212 non-null    float64\n",
            " 4   Runtime             220 non-null    object \n",
            " 5   Age_Rating          119 non-null    object \n",
            " 6   Production_Country  220 non-null    object \n",
            " 7   Streaming_Services  192 non-null    object \n",
            " 8   URL                 220 non-null    object \n",
            "dtypes: float64(1), int64(1), object(7)\n",
            "memory usage: 25.3+ KB\n"
          ]
        }
      ]
    },
    {
      "cell_type": "markdown",
      "metadata": {
        "id": "0bPDbn-gPyfm"
      },
      "source": [
        "### **Calculating Mean IMDB Ratings for both Movies and Tv Shows**"
      ]
    },
    {
      "cell_type": "code",
      "execution_count": null,
      "metadata": {
        "id": "6aGmGPOlIkk4",
        "colab": {
          "base_uri": "https://localhost:8080/"
        },
        "outputId": "111aeb15-42a5-4a26-b005-e776e17d85ee"
      },
      "outputs": [
        {
          "output_type": "stream",
          "name": "stdout",
          "text": [
            "Mean IMDB rating for both Movies and Tv shows is 7.339622641509434\n"
          ]
        }
      ],
      "source": [
        "# calculating mean IMDB ratings\n",
        "\n",
        "mean_IMDB = final_df.IMDB_Rating.mean()\n",
        "print(f\"Mean IMDB rating for both Movies and Tv shows is {mean_IMDB}\")"
      ]
    },
    {
      "cell_type": "markdown",
      "metadata": {
        "id": "N_OroblUQG4r"
      },
      "source": [
        "### **Analyzing Top Genres**"
      ]
    },
    {
      "cell_type": "code",
      "execution_count": null,
      "metadata": {
        "id": "4ljPnIn2LJLZ"
      },
      "outputs": [],
      "source": [
        "# Finding main genre for each movie and shows\n",
        "genre_list = []\n",
        "for genre in final_df[\"Genres\"]:\n",
        "  genre = genre.split(\", \")[0]\n",
        "  genre_list.append(genre)\n",
        "\n",
        "# Creating main genre column in data frame for finding popular genre\n",
        "final_df[\"Main_Genres\"] = genre_list"
      ]
    },
    {
      "cell_type": "code",
      "source": [
        "final_df.head()"
      ],
      "metadata": {
        "colab": {
          "base_uri": "https://localhost:8080/"
        },
        "id": "wzV-CxQS9o8c",
        "outputId": "5922c9d8-9048-40ef-fbde-2b02bff261e3"
      },
      "execution_count": null,
      "outputs": [
        {
          "output_type": "execute_result",
          "data": {
            "text/plain": [
              "           Title  Release_Year  \\\n",
              "0        Stree 2          2024   \n",
              "1  Kalki 2898-AD          2024   \n",
              "2         Munjya          2024   \n",
              "3           Kill          2024   \n",
              "4          Stree          2018   \n",
              "\n",
              "                                              Genres  IMDB_Rating   Runtime  \\\n",
              "0                                     Comedy, Horror          7.7  2h 27min   \n",
              "1  Science-Fiction, Drama, Action & Adventure, Fa...          7.2  2h 56min   \n",
              "2                                     Comedy, Horror          6.6   2h 3min   \n",
              "3  Action & Adventure, Crime, Drama, Mystery & Th...          7.6  1h 45min   \n",
              "4                              Horror, Comedy, Drama          7.5   2h 7min   \n",
              "\n",
              "  Age_Rating Production_Country                         Streaming_Services  \\\n",
              "0         UA              India                                        NaN   \n",
              "1         UA              India  Amazon Video, Amazon Prime Video, Netflix   \n",
              "2         UA              India                                    Hotstar   \n",
              "3          A              India                                        NaN   \n",
              "4         UA              India                          Hotstar, Apple TV   \n",
              "\n",
              "                                            URL         Main_Genres  \n",
              "0    https://www.justwatch.com/in/movie/stree-2              Comedy  \n",
              "1  https://www.justwatch.com/in/movie/project-k     Science-Fiction  \n",
              "2     https://www.justwatch.com/in/movie/munjha              Comedy  \n",
              "3  https://www.justwatch.com/in/movie/kill-2024  Action & Adventure  \n",
              "4      https://www.justwatch.com/in/movie/stree              Horror  "
            ],
            "text/html": [
              "\n",
              "  <div id=\"df-8499188c-2cd3-43d6-bda3-ead2fdd27b0e\" class=\"colab-df-container\">\n",
              "    <div>\n",
              "<style scoped>\n",
              "    .dataframe tbody tr th:only-of-type {\n",
              "        vertical-align: middle;\n",
              "    }\n",
              "\n",
              "    .dataframe tbody tr th {\n",
              "        vertical-align: top;\n",
              "    }\n",
              "\n",
              "    .dataframe thead th {\n",
              "        text-align: right;\n",
              "    }\n",
              "</style>\n",
              "<table border=\"1\" class=\"dataframe\">\n",
              "  <thead>\n",
              "    <tr style=\"text-align: right;\">\n",
              "      <th></th>\n",
              "      <th>Title</th>\n",
              "      <th>Release_Year</th>\n",
              "      <th>Genres</th>\n",
              "      <th>IMDB_Rating</th>\n",
              "      <th>Runtime</th>\n",
              "      <th>Age_Rating</th>\n",
              "      <th>Production_Country</th>\n",
              "      <th>Streaming_Services</th>\n",
              "      <th>URL</th>\n",
              "      <th>Main_Genres</th>\n",
              "    </tr>\n",
              "  </thead>\n",
              "  <tbody>\n",
              "    <tr>\n",
              "      <th>0</th>\n",
              "      <td>Stree 2</td>\n",
              "      <td>2024</td>\n",
              "      <td>Comedy, Horror</td>\n",
              "      <td>7.7</td>\n",
              "      <td>2h 27min</td>\n",
              "      <td>UA</td>\n",
              "      <td>India</td>\n",
              "      <td>NaN</td>\n",
              "      <td>https://www.justwatch.com/in/movie/stree-2</td>\n",
              "      <td>Comedy</td>\n",
              "    </tr>\n",
              "    <tr>\n",
              "      <th>1</th>\n",
              "      <td>Kalki 2898-AD</td>\n",
              "      <td>2024</td>\n",
              "      <td>Science-Fiction, Drama, Action &amp; Adventure, Fa...</td>\n",
              "      <td>7.2</td>\n",
              "      <td>2h 56min</td>\n",
              "      <td>UA</td>\n",
              "      <td>India</td>\n",
              "      <td>Amazon Video, Amazon Prime Video, Netflix</td>\n",
              "      <td>https://www.justwatch.com/in/movie/project-k</td>\n",
              "      <td>Science-Fiction</td>\n",
              "    </tr>\n",
              "    <tr>\n",
              "      <th>2</th>\n",
              "      <td>Munjya</td>\n",
              "      <td>2024</td>\n",
              "      <td>Comedy, Horror</td>\n",
              "      <td>6.6</td>\n",
              "      <td>2h 3min</td>\n",
              "      <td>UA</td>\n",
              "      <td>India</td>\n",
              "      <td>Hotstar</td>\n",
              "      <td>https://www.justwatch.com/in/movie/munjha</td>\n",
              "      <td>Comedy</td>\n",
              "    </tr>\n",
              "    <tr>\n",
              "      <th>3</th>\n",
              "      <td>Kill</td>\n",
              "      <td>2024</td>\n",
              "      <td>Action &amp; Adventure, Crime, Drama, Mystery &amp; Th...</td>\n",
              "      <td>7.6</td>\n",
              "      <td>1h 45min</td>\n",
              "      <td>A</td>\n",
              "      <td>India</td>\n",
              "      <td>NaN</td>\n",
              "      <td>https://www.justwatch.com/in/movie/kill-2024</td>\n",
              "      <td>Action &amp; Adventure</td>\n",
              "    </tr>\n",
              "    <tr>\n",
              "      <th>4</th>\n",
              "      <td>Stree</td>\n",
              "      <td>2018</td>\n",
              "      <td>Horror, Comedy, Drama</td>\n",
              "      <td>7.5</td>\n",
              "      <td>2h 7min</td>\n",
              "      <td>UA</td>\n",
              "      <td>India</td>\n",
              "      <td>Hotstar, Apple TV</td>\n",
              "      <td>https://www.justwatch.com/in/movie/stree</td>\n",
              "      <td>Horror</td>\n",
              "    </tr>\n",
              "  </tbody>\n",
              "</table>\n",
              "</div>\n",
              "    <div class=\"colab-df-buttons\">\n",
              "\n",
              "  <div class=\"colab-df-container\">\n",
              "    <button class=\"colab-df-convert\" onclick=\"convertToInteractive('df-8499188c-2cd3-43d6-bda3-ead2fdd27b0e')\"\n",
              "            title=\"Convert this dataframe to an interactive table.\"\n",
              "            style=\"display:none;\">\n",
              "\n",
              "  <svg xmlns=\"http://www.w3.org/2000/svg\" height=\"24px\" viewBox=\"0 -960 960 960\">\n",
              "    <path d=\"M120-120v-720h720v720H120Zm60-500h600v-160H180v160Zm220 220h160v-160H400v160Zm0 220h160v-160H400v160ZM180-400h160v-160H180v160Zm440 0h160v-160H620v160ZM180-180h160v-160H180v160Zm440 0h160v-160H620v160Z\"/>\n",
              "  </svg>\n",
              "    </button>\n",
              "\n",
              "  <style>\n",
              "    .colab-df-container {\n",
              "      display:flex;\n",
              "      gap: 12px;\n",
              "    }\n",
              "\n",
              "    .colab-df-convert {\n",
              "      background-color: #E8F0FE;\n",
              "      border: none;\n",
              "      border-radius: 50%;\n",
              "      cursor: pointer;\n",
              "      display: none;\n",
              "      fill: #1967D2;\n",
              "      height: 32px;\n",
              "      padding: 0 0 0 0;\n",
              "      width: 32px;\n",
              "    }\n",
              "\n",
              "    .colab-df-convert:hover {\n",
              "      background-color: #E2EBFA;\n",
              "      box-shadow: 0px 1px 2px rgba(60, 64, 67, 0.3), 0px 1px 3px 1px rgba(60, 64, 67, 0.15);\n",
              "      fill: #174EA6;\n",
              "    }\n",
              "\n",
              "    .colab-df-buttons div {\n",
              "      margin-bottom: 4px;\n",
              "    }\n",
              "\n",
              "    [theme=dark] .colab-df-convert {\n",
              "      background-color: #3B4455;\n",
              "      fill: #D2E3FC;\n",
              "    }\n",
              "\n",
              "    [theme=dark] .colab-df-convert:hover {\n",
              "      background-color: #434B5C;\n",
              "      box-shadow: 0px 1px 3px 1px rgba(0, 0, 0, 0.15);\n",
              "      filter: drop-shadow(0px 1px 2px rgba(0, 0, 0, 0.3));\n",
              "      fill: #FFFFFF;\n",
              "    }\n",
              "  </style>\n",
              "\n",
              "    <script>\n",
              "      const buttonEl =\n",
              "        document.querySelector('#df-8499188c-2cd3-43d6-bda3-ead2fdd27b0e button.colab-df-convert');\n",
              "      buttonEl.style.display =\n",
              "        google.colab.kernel.accessAllowed ? 'block' : 'none';\n",
              "\n",
              "      async function convertToInteractive(key) {\n",
              "        const element = document.querySelector('#df-8499188c-2cd3-43d6-bda3-ead2fdd27b0e');\n",
              "        const dataTable =\n",
              "          await google.colab.kernel.invokeFunction('convertToInteractive',\n",
              "                                                    [key], {});\n",
              "        if (!dataTable) return;\n",
              "\n",
              "        const docLinkHtml = 'Like what you see? Visit the ' +\n",
              "          '<a target=\"_blank\" href=https://colab.research.google.com/notebooks/data_table.ipynb>data table notebook</a>'\n",
              "          + ' to learn more about interactive tables.';\n",
              "        element.innerHTML = '';\n",
              "        dataTable['output_type'] = 'display_data';\n",
              "        await google.colab.output.renderOutput(dataTable, element);\n",
              "        const docLink = document.createElement('div');\n",
              "        docLink.innerHTML = docLinkHtml;\n",
              "        element.appendChild(docLink);\n",
              "      }\n",
              "    </script>\n",
              "  </div>\n",
              "\n",
              "\n",
              "<div id=\"df-4baf5827-c55e-4cd0-9389-af58db747c5f\">\n",
              "  <button class=\"colab-df-quickchart\" onclick=\"quickchart('df-4baf5827-c55e-4cd0-9389-af58db747c5f')\"\n",
              "            title=\"Suggest charts\"\n",
              "            style=\"display:none;\">\n",
              "\n",
              "<svg xmlns=\"http://www.w3.org/2000/svg\" height=\"24px\"viewBox=\"0 0 24 24\"\n",
              "     width=\"24px\">\n",
              "    <g>\n",
              "        <path d=\"M19 3H5c-1.1 0-2 .9-2 2v14c0 1.1.9 2 2 2h14c1.1 0 2-.9 2-2V5c0-1.1-.9-2-2-2zM9 17H7v-7h2v7zm4 0h-2V7h2v10zm4 0h-2v-4h2v4z\"/>\n",
              "    </g>\n",
              "</svg>\n",
              "  </button>\n",
              "\n",
              "<style>\n",
              "  .colab-df-quickchart {\n",
              "      --bg-color: #E8F0FE;\n",
              "      --fill-color: #1967D2;\n",
              "      --hover-bg-color: #E2EBFA;\n",
              "      --hover-fill-color: #174EA6;\n",
              "      --disabled-fill-color: #AAA;\n",
              "      --disabled-bg-color: #DDD;\n",
              "  }\n",
              "\n",
              "  [theme=dark] .colab-df-quickchart {\n",
              "      --bg-color: #3B4455;\n",
              "      --fill-color: #D2E3FC;\n",
              "      --hover-bg-color: #434B5C;\n",
              "      --hover-fill-color: #FFFFFF;\n",
              "      --disabled-bg-color: #3B4455;\n",
              "      --disabled-fill-color: #666;\n",
              "  }\n",
              "\n",
              "  .colab-df-quickchart {\n",
              "    background-color: var(--bg-color);\n",
              "    border: none;\n",
              "    border-radius: 50%;\n",
              "    cursor: pointer;\n",
              "    display: none;\n",
              "    fill: var(--fill-color);\n",
              "    height: 32px;\n",
              "    padding: 0;\n",
              "    width: 32px;\n",
              "  }\n",
              "\n",
              "  .colab-df-quickchart:hover {\n",
              "    background-color: var(--hover-bg-color);\n",
              "    box-shadow: 0 1px 2px rgba(60, 64, 67, 0.3), 0 1px 3px 1px rgba(60, 64, 67, 0.15);\n",
              "    fill: var(--button-hover-fill-color);\n",
              "  }\n",
              "\n",
              "  .colab-df-quickchart-complete:disabled,\n",
              "  .colab-df-quickchart-complete:disabled:hover {\n",
              "    background-color: var(--disabled-bg-color);\n",
              "    fill: var(--disabled-fill-color);\n",
              "    box-shadow: none;\n",
              "  }\n",
              "\n",
              "  .colab-df-spinner {\n",
              "    border: 2px solid var(--fill-color);\n",
              "    border-color: transparent;\n",
              "    border-bottom-color: var(--fill-color);\n",
              "    animation:\n",
              "      spin 1s steps(1) infinite;\n",
              "  }\n",
              "\n",
              "  @keyframes spin {\n",
              "    0% {\n",
              "      border-color: transparent;\n",
              "      border-bottom-color: var(--fill-color);\n",
              "      border-left-color: var(--fill-color);\n",
              "    }\n",
              "    20% {\n",
              "      border-color: transparent;\n",
              "      border-left-color: var(--fill-color);\n",
              "      border-top-color: var(--fill-color);\n",
              "    }\n",
              "    30% {\n",
              "      border-color: transparent;\n",
              "      border-left-color: var(--fill-color);\n",
              "      border-top-color: var(--fill-color);\n",
              "      border-right-color: var(--fill-color);\n",
              "    }\n",
              "    40% {\n",
              "      border-color: transparent;\n",
              "      border-right-color: var(--fill-color);\n",
              "      border-top-color: var(--fill-color);\n",
              "    }\n",
              "    60% {\n",
              "      border-color: transparent;\n",
              "      border-right-color: var(--fill-color);\n",
              "    }\n",
              "    80% {\n",
              "      border-color: transparent;\n",
              "      border-right-color: var(--fill-color);\n",
              "      border-bottom-color: var(--fill-color);\n",
              "    }\n",
              "    90% {\n",
              "      border-color: transparent;\n",
              "      border-bottom-color: var(--fill-color);\n",
              "    }\n",
              "  }\n",
              "</style>\n",
              "\n",
              "  <script>\n",
              "    async function quickchart(key) {\n",
              "      const quickchartButtonEl =\n",
              "        document.querySelector('#' + key + ' button');\n",
              "      quickchartButtonEl.disabled = true;  // To prevent multiple clicks.\n",
              "      quickchartButtonEl.classList.add('colab-df-spinner');\n",
              "      try {\n",
              "        const charts = await google.colab.kernel.invokeFunction(\n",
              "            'suggestCharts', [key], {});\n",
              "      } catch (error) {\n",
              "        console.error('Error during call to suggestCharts:', error);\n",
              "      }\n",
              "      quickchartButtonEl.classList.remove('colab-df-spinner');\n",
              "      quickchartButtonEl.classList.add('colab-df-quickchart-complete');\n",
              "    }\n",
              "    (() => {\n",
              "      let quickchartButtonEl =\n",
              "        document.querySelector('#df-4baf5827-c55e-4cd0-9389-af58db747c5f button');\n",
              "      quickchartButtonEl.style.display =\n",
              "        google.colab.kernel.accessAllowed ? 'block' : 'none';\n",
              "    })();\n",
              "  </script>\n",
              "</div>\n",
              "\n",
              "    </div>\n",
              "  </div>\n"
            ],
            "application/vnd.google.colaboratory.intrinsic+json": {
              "type": "dataframe",
              "variable_name": "final_df",
              "summary": "{\n  \"name\": \"final_df\",\n  \"rows\": 220,\n  \"fields\": [\n    {\n      \"column\": \"Title\",\n      \"properties\": {\n        \"dtype\": \"string\",\n        \"num_unique_values\": 210,\n        \"samples\": [\n          \"Despicable Me 4\",\n          \"Jujutsu Kaisen\",\n          \"Harry Potter and the Philosopher's Stone\"\n        ],\n        \"semantic_type\": \"\",\n        \"description\": \"\"\n      }\n    },\n    {\n      \"column\": \"Release_Year\",\n      \"properties\": {\n        \"dtype\": \"number\",\n        \"std\": 5,\n        \"min\": 2000,\n        \"max\": 2024,\n        \"num_unique_values\": 24,\n        \"samples\": [\n          2017,\n          2008,\n          2024\n        ],\n        \"semantic_type\": \"\",\n        \"description\": \"\"\n      }\n    },\n    {\n      \"column\": \"Genres\",\n      \"properties\": {\n        \"dtype\": \"string\",\n        \"num_unique_values\": 146,\n        \"samples\": [\n          \"Drama, Romance, Mystery & Thriller, Crime\",\n          \"Science-Fiction, Horror, Mystery & Thriller, Drama, Fantasy\",\n          \"Romance, Comedy, Drama\"\n        ],\n        \"semantic_type\": \"\",\n        \"description\": \"\"\n      }\n    },\n    {\n      \"column\": \"IMDB_Rating\",\n      \"properties\": {\n        \"dtype\": \"number\",\n        \"std\": 1.2337803998018322,\n        \"min\": 1.9,\n        \"max\": 9.5,\n        \"num_unique_values\": 52,\n        \"samples\": [\n          4.9,\n          9.2,\n          3.4\n        ],\n        \"semantic_type\": \"\",\n        \"description\": \"\"\n      }\n    },\n    {\n      \"column\": \"Runtime\",\n      \"properties\": {\n        \"dtype\": \"category\",\n        \"num_unique_values\": 104,\n        \"samples\": [\n          \"1h 39min\",\n          \"43min\",\n          \"3min\"\n        ],\n        \"semantic_type\": \"\",\n        \"description\": \"\"\n      }\n    },\n    {\n      \"column\": \"Age_Rating\",\n      \"properties\": {\n        \"dtype\": \"category\",\n        \"num_unique_values\": 3,\n        \"samples\": [\n          \"UA\",\n          \"A\",\n          \"U\"\n        ],\n        \"semantic_type\": \"\",\n        \"description\": \"\"\n      }\n    },\n    {\n      \"column\": \"Production_Country\",\n      \"properties\": {\n        \"dtype\": \"category\",\n        \"num_unique_values\": 33,\n        \"samples\": [\n          \"Mexico\",\n          \"Canada, United States\",\n          \"China\"\n        ],\n        \"semantic_type\": \"\",\n        \"description\": \"\"\n      }\n    },\n    {\n      \"column\": \"Streaming_Services\",\n      \"properties\": {\n        \"dtype\": \"category\",\n        \"num_unique_values\": 48,\n        \"samples\": [\n          \"Jio Cinema, Amazon Video, Netflix, Apple TV\",\n          \"Apple TV+, Netflix\",\n          \"Amazon Video, Amazon Prime Video, Jio Cinema\"\n        ],\n        \"semantic_type\": \"\",\n        \"description\": \"\"\n      }\n    },\n    {\n      \"column\": \"URL\",\n      \"properties\": {\n        \"dtype\": \"string\",\n        \"num_unique_values\": 210,\n        \"samples\": [\n          \"https://www.justwatch.com/in/movie/despicable-me-4-2024\",\n          \"https://www.justwatch.com/in/tv-show/jujutsu-kaisen\",\n          \"https://www.justwatch.com/in/movie/harry-potter-and-the-philosophers-stone\"\n        ],\n        \"semantic_type\": \"\",\n        \"description\": \"\"\n      }\n    },\n    {\n      \"column\": \"Main_Genres\",\n      \"properties\": {\n        \"dtype\": \"category\",\n        \"num_unique_values\": 14,\n        \"samples\": [\n          \"Kids & Family\",\n          \"Animation\",\n          \"Comedy\"\n        ],\n        \"semantic_type\": \"\",\n        \"description\": \"\"\n      }\n    }\n  ]\n}"
            }
          },
          "metadata": {},
          "execution_count": 51
        }
      ]
    },
    {
      "cell_type": "code",
      "source": [
        "# Finding Top genres\n",
        "\n",
        "top_5_genres = final_df[\"Main_Genres\"].value_counts().head()\n",
        "print(f\"Top 5 genres are \\n \\n {top_5_genres}\") # printing top 5 genres used \\n for seperating extra text from result"
      ],
      "metadata": {
        "colab": {
          "base_uri": "https://localhost:8080/"
        },
        "id": "JrTTzKwf_TcC",
        "outputId": "4a848a7a-e1b2-4c0c-cc24-09744e656dac"
      },
      "execution_count": null,
      "outputs": [
        {
          "output_type": "stream",
          "name": "stdout",
          "text": [
            "Top 5 genres are \n",
            " \n",
            " Main_Genres\n",
            "Drama                 65\n",
            "Action & Adventure    35\n",
            "Comedy                31\n",
            "Mystery & Thriller    19\n",
            "Crime                 17\n",
            "Name: count, dtype: int64\n"
          ]
        }
      ]
    },
    {
      "cell_type": "code",
      "execution_count": null,
      "metadata": {
        "id": "7Nqu7MEEYa3c",
        "colab": {
          "base_uri": "https://localhost:8080/"
        },
        "outputId": "5592b4fc-3fff-4bd0-8c67-64df196708f7"
      },
      "outputs": [
        {
          "output_type": "display_data",
          "data": {
            "text/plain": [
              "<Figure size 500x500 with 1 Axes>"
            ],
            "image/png": "[encoded data removed]"
          },
          "metadata": {}
        }
      ],
      "source": [
        "#Let's Visvalize it using word cloud\n",
        "from wordcloud import WordCloud\n",
        "import matplotlib.pyplot as plt\n",
        "\n",
        "all_genres = \" \".join(genres for genres in final_df[\"Main_Genres\"])\n",
        "wordcloud = WordCloud(width = 500, height = 500, background_color = \"white\", min_font_size = 10).generate(all_genres)\n",
        "plt.figure(figsize = (5, 5), facecolor = None)\n",
        "plt.imshow(wordcloud)\n",
        "plt.axis(\"off\")\n",
        "plt.tight_layout(pad = 0)\n",
        "plt.show()"
      ]
    },
    {
      "cell_type": "markdown",
      "metadata": {
        "id": "BUPye0P0QP5I"
      },
      "source": [
        "### **Finding Predominant Streaming Service**"
      ]
    },
    {
      "cell_type": "code",
      "execution_count": null,
      "metadata": {
        "id": "cLXiCZSAO_40"
      },
      "outputs": [],
      "source": [
        "# Finding main streaminmg service for each movie and shows\n",
        "streaming_service_list = []\n",
        "sss = final_df.iloc[2:5, 5:10]\n",
        "for ss in final_df[\"Streaming_Services\"]:\n",
        "  if pd.isna(ss):\n",
        "        streaming_service_list.append(np.nan)\n",
        "  else:\n",
        "    stream = ss.split(\", \")[0]\n",
        "    streaming_service_list.append(stream)\n",
        "\n",
        "# Creating main genre column in data frame for finding popular genre\n",
        "final_df[\"Main_Streaming_Services\"] = streaming_service_list\n"
      ]
    },
    {
      "cell_type": "code",
      "source": [
        "# Finding Top streaming services\n",
        "\n",
        "top_5_streaming_services = final_df[\"Main_Streaming_Services\"].value_counts().head()\n",
        "print(f\"Top 5 streaming services are \\n \\n {top_5_streaming_services}\") # printing top 5 genres used \\n for seperating extra text from result"
      ],
      "metadata": {
        "colab": {
          "base_uri": "https://localhost:8080/"
        },
        "id": "DFGXSYIVM_xj",
        "outputId": "46d24639-8533-4833-c863-512ab1112a35"
      },
      "execution_count": null,
      "outputs": [
        {
          "output_type": "stream",
          "name": "stdout",
          "text": [
            "Top 5 streaming services are \n",
            " \n",
            " Main_Streaming_Services\n",
            "Netflix               45\n",
            "Amazon Prime Video    42\n",
            "Hotstar               24\n",
            "Jio Cinema            23\n",
            "Amazon Video          21\n",
            "Name: count, dtype: int64\n"
          ]
        }
      ]
    },
    {
      "cell_type": "code",
      "execution_count": null,
      "metadata": {
        "id": "e0xdIO8APJYm",
        "colab": {
          "base_uri": "https://localhost:8080/"
        },
        "outputId": "0f5c33ad-707f-4172-c825-24abdc4314d6"
      },
      "outputs": [
        {
          "output_type": "display_data",
          "data": {
            "text/plain": [
              "<Figure size 500x500 with 1 Axes>"
            ],
            "image/png": "[encoded data removed]"
          },
          "metadata": {}
        }
      ],
      "source": [
        "#Let's Visvalize it using word cloud\n",
        "\n",
        "all_Streaming_Services = \" \".join(streaming_services for streaming_services in final_df[\"Main_Streaming_Services\"] if not pd.isna(streaming_services))\n",
        "wordcloud = WordCloud(width = 500, height = 500, background_color = \"white\", min_font_size = 10).generate(all_Streaming_Services)\n",
        "plt.figure(figsize = (5, 5), facecolor = None)\n",
        "plt.imshow(wordcloud)\n",
        "plt.axis(\"off\")\n",
        "plt.tight_layout(pad = 0)\n",
        "plt.show()"
      ]
    },
    {
      "cell_type": "markdown",
      "metadata": {
        "id": "tytqsADVR2x6"
      },
      "source": [
        "# **Task 3 :- Data Export**"
      ]
    },
    {
      "cell_type": "code",
      "execution_count": null,
      "metadata": {
        "id": "u4yaUlvrRj6g"
      },
      "outputs": [],
      "source": [
        "#saving final dataframe as Final Data in csv format\n",
        "Final_Data = final_df.to_csv(\"Final Data.csv\", index = True)"
      ]
    },
    {
      "cell_type": "code",
      "execution_count": null,
      "metadata": {
        "id": "SSmCEV22SSW_"
      },
      "outputs": [],
      "source": [
        "#saving filter data as Filter Data in csv format\n",
        "Filter_Data = final_df.to_csv(\"Filter Data.csv\", index = True)"
      ]
    }
  ],
  "metadata": {
    "colab": {
      "collapsed_sections": [
        "bKFlk3slQ1ol",
        "-xHLaFLPn4yC",
        "NCWbwB1Og3bD",
        "V-qsNrtIsBEp",
        "Dam_ehZgvgmw",
        "VEg1U1uPzGoj",
        "aqzhL8STqaMX",
        "UOof6-0xFuf6",
        "8CHiu0A5RAuM",
        "edb4gsNcRJQN",
        "_RI5FD3CqFVV",
        "IrJlIsBWrO2r",
        "Mnh22VX_7f6K",
        "LYQ5acWzJRZr",
        "ev-VUSNvJ-fJ",
        "1vZLzmqcKDPX",
        "mEIt9j6RKa9B",
        "P96pGO9kRCLv",
        "hk3eSdDAXQv8",
        "XZ9nJhmiZB_W",
        "ii49LH4tdNoN",
        "mHZwwgiKdlQm",
        "uUOtDJv9gM4a",
        "nD4QVPT-nfVR",
        "CyqHHKh4IDx6",
        "0bPDbn-gPyfm",
        "N_OroblUQG4r",
        "BUPye0P0QP5I",
        "tytqsADVR2x6"
      ],
      "provenance": []
    },
    "kernelspec": {
      "display_name": "Python 3",
      "name": "python3"
    },
    "language_info": {
      "name": "python"
    }
  },
  "nbformat": 4,
  "nbformat_minor": 0
}